{
 "cells": [
  {
   "cell_type": "code",
   "execution_count": 47,
   "id": "b8c48557-783b-4948-93a8-5dc2a1527cbc",
   "metadata": {},
   "outputs": [],
   "source": [
    "import pandas as pd\n",
    "import numpy as np\n",
    "import matplotlib.pyplot as plt\n"
   ]
  },
  {
   "cell_type": "code",
   "execution_count": 52,
   "id": "a6452a5a-bc3f-4da1-9ac9-22fdf54eae01",
   "metadata": {},
   "outputs": [],
   "source": [
    "diet_path = '/Users/velarieansu/Documents/datascience/DR1IFF_L.xpt'\n",
    "demo_path = '/Users/velarieansu/Documents/datascience/DEMO_L.xpt'\n",
    "a1c_path = '/Users/velarieansu/Documents/datascience/GHB_L.xpt'"
   ]
  },
  {
   "cell_type": "code",
   "execution_count": 55,
   "id": "0ce99055-9d02-413e-b174-78f4a288da26",
   "metadata": {},
   "outputs": [
    {
     "name": "stdout",
     "output_type": "stream",
     "text": [
      "       SEQN  SDDSRVYR  RIDSTATR  RIAGENDR  RIDAGEYR  RIDAGEMN  RIDRETH1  \\\n",
      "0  130378.0      12.0       2.0       1.0      43.0       NaN       5.0   \n",
      "1  130379.0      12.0       2.0       1.0      66.0       NaN       3.0   \n",
      "2  130380.0      12.0       2.0       2.0      44.0       NaN       2.0   \n",
      "3  130381.0      12.0       2.0       2.0       5.0       NaN       5.0   \n",
      "4  130382.0      12.0       2.0       1.0       2.0       NaN       3.0   \n",
      "\n",
      "   RIDRETH3  RIDEXMON  RIDEXAGM  ...  DMDHRGND  DMDHRAGZ  DMDHREDZ  DMDHRMAZ  \\\n",
      "0       6.0       2.0       NaN  ...       NaN       NaN       NaN       NaN   \n",
      "1       3.0       2.0       NaN  ...       NaN       NaN       NaN       NaN   \n",
      "2       2.0       1.0       NaN  ...       NaN       NaN       NaN       NaN   \n",
      "3       7.0       1.0      71.0  ...       2.0       2.0       2.0       3.0   \n",
      "4       3.0       2.0      34.0  ...       2.0       2.0       3.0       1.0   \n",
      "\n",
      "   DMDHSEDZ      WTINT2YR      WTMEC2YR  SDMVSTRA  SDMVPSU  INDFMPIR  \n",
      "0       NaN  50055.450807  54374.463898     173.0      2.0      5.00  \n",
      "1       NaN  29087.450605  34084.721548     173.0      2.0      5.00  \n",
      "2       NaN  80062.674301  81196.277992     174.0      1.0      1.41  \n",
      "3       NaN  38807.268902  55698.607106     182.0      2.0      1.53  \n",
      "4       2.0  30607.519774  36434.146346     182.0      2.0      3.60  \n",
      "\n",
      "[5 rows x 27 columns]\n"
     ]
    }
   ],
   "source": [
    "df_demo = pd.read_sas(demo_path, format='xport', encoding='utf-8')\n",
    "print(df_diet.head())"
   ]
  },
  {
   "cell_type": "code",
   "execution_count": 56,
   "id": "6de3ae44-aaeb-4cd1-807f-ca08b400ae9c",
   "metadata": {},
   "outputs": [
    {
     "name": "stdout",
     "output_type": "stream",
     "text": [
      "       SEQN  SDDSRVYR  RIDSTATR  RIAGENDR  RIDAGEYR  RIDAGEMN  RIDRETH1  \\\n",
      "0  130378.0      12.0       2.0       1.0      43.0       NaN       5.0   \n",
      "1  130379.0      12.0       2.0       1.0      66.0       NaN       3.0   \n",
      "2  130380.0      12.0       2.0       2.0      44.0       NaN       2.0   \n",
      "3  130381.0      12.0       2.0       2.0       5.0       NaN       5.0   \n",
      "4  130382.0      12.0       2.0       1.0       2.0       NaN       3.0   \n",
      "\n",
      "   RIDRETH3  RIDEXMON  RIDEXAGM  ...  DMDHRGND  DMDHRAGZ  DMDHREDZ  DMDHRMAZ  \\\n",
      "0       6.0       2.0       NaN  ...       NaN       NaN       NaN       NaN   \n",
      "1       3.0       2.0       NaN  ...       NaN       NaN       NaN       NaN   \n",
      "2       2.0       1.0       NaN  ...       NaN       NaN       NaN       NaN   \n",
      "3       7.0       1.0      71.0  ...       2.0       2.0       2.0       3.0   \n",
      "4       3.0       2.0      34.0  ...       2.0       2.0       3.0       1.0   \n",
      "\n",
      "   DMDHSEDZ      WTINT2YR      WTMEC2YR  SDMVSTRA  SDMVPSU  INDFMPIR  \n",
      "0       NaN  50055.450807  54374.463898     173.0      2.0      5.00  \n",
      "1       NaN  29087.450605  34084.721548     173.0      2.0      5.00  \n",
      "2       NaN  80062.674301  81196.277992     174.0      1.0      1.41  \n",
      "3       NaN  38807.268902  55698.607106     182.0      2.0      1.53  \n",
      "4       2.0  30607.519774  36434.146346     182.0      2.0      3.60  \n",
      "\n",
      "[5 rows x 27 columns]\n"
     ]
    }
   ],
   "source": [
    "df_a1c = pd.read_sas(a1c_path, format='xport', encoding='utf-8')\n",
    "print(df_diet.head())"
   ]
  },
  {
   "cell_type": "code",
   "execution_count": 51,
   "id": "84877775-6a28-4b4c-a031-b8098d7dd1c7",
   "metadata": {},
   "outputs": [
    {
     "name": "stdout",
     "output_type": "stream",
     "text": [
      "       SEQN        WTDRD1        WTDR2D  DR1ILINE  DR1DRSTZ  DR1EXMER  DRABF  \\\n",
      "0  130378.0  61366.555827  70554.222162       1.0       1.0      73.0    2.0   \n",
      "1  130378.0  61366.555827  70554.222162       2.0       1.0      73.0    2.0   \n",
      "2  130378.0  61366.555827  70554.222162       3.0       1.0      73.0    2.0   \n",
      "3  130378.0  61366.555827  70554.222162       4.0       1.0      73.0    2.0   \n",
      "4  130378.0  61366.555827  70554.222162       5.0       1.0      73.0    2.0   \n",
      "\n",
      "   DRDINT  DR1DBIH  DR1DAY  ...      DR1IM181      DR1IM201      DR1IM221  \\\n",
      "0     2.0     40.0     4.0  ...  5.397605e-79  5.397605e-79  5.397605e-79   \n",
      "1     2.0     40.0     4.0  ...  5.397605e-79  5.397605e-79  5.397605e-79   \n",
      "2     2.0     40.0     4.0  ...  5.397605e-79  5.397605e-79  5.397605e-79   \n",
      "3     2.0     40.0     4.0  ...  5.397605e-79  5.397605e-79  5.397605e-79   \n",
      "4     2.0     40.0     4.0  ...  6.530000e-01  7.000000e-03  5.397605e-79   \n",
      "\n",
      "       DR1IP182      DR1IP183      DR1IP184      DR1IP204      DR1IP205  \\\n",
      "0  5.397605e-79  5.397605e-79  5.397605e-79  5.397605e-79  5.397605e-79   \n",
      "1  5.397605e-79  5.397605e-79  5.397605e-79  5.397605e-79  5.397605e-79   \n",
      "2  3.000000e-03  5.397605e-79  5.397605e-79  5.397605e-79  5.397605e-79   \n",
      "3  5.397605e-79  5.397605e-79  5.397605e-79  5.397605e-79  5.397605e-79   \n",
      "4  1.418000e+00  1.890000e-01  5.397605e-79  5.397605e-79  5.397605e-79   \n",
      "\n",
      "       DR1IP225      DR1IP226  \n",
      "0  5.397605e-79  5.397605e-79  \n",
      "1  5.397605e-79  5.397605e-79  \n",
      "2  5.397605e-79  5.397605e-79  \n",
      "3  5.397605e-79  5.397605e-79  \n",
      "4  5.397605e-79  1.000000e-03  \n",
      "\n",
      "[5 rows x 84 columns]\n"
     ]
    }
   ],
   "source": [
    "df_diet = pd.read_sas(diet_path, format='xport', encoding='utf-8')\n",
    "print(df_diet.head())\n"
   ]
  },
  {
   "cell_type": "code",
   "execution_count": 61,
   "id": "1b5c5241-5763-46df-b3d3-dbda953cbbba",
   "metadata": {},
   "outputs": [
    {
     "name": "stdout",
     "output_type": "stream",
     "text": [
      "<class 'pandas.core.frame.DataFrame'>\n",
      "RangeIndex: 11933 entries, 0 to 11932\n",
      "Data columns (total 27 columns):\n",
      " #   Column    Non-Null Count  Dtype  \n",
      "---  ------    --------------  -----  \n",
      " 0   SEQN      11933 non-null  float64\n",
      " 1   SDDSRVYR  11933 non-null  float64\n",
      " 2   RIDSTATR  11933 non-null  float64\n",
      " 3   RIAGENDR  11933 non-null  float64\n",
      " 4   RIDAGEYR  11933 non-null  float64\n",
      " 5   RIDAGEMN  377 non-null    float64\n",
      " 6   RIDRETH1  11933 non-null  float64\n",
      " 7   RIDRETH3  11933 non-null  float64\n",
      " 8   RIDEXMON  8860 non-null   float64\n",
      " 9   RIDEXAGM  2787 non-null   float64\n",
      " 10  DMQMILIZ  8301 non-null   float64\n",
      " 11  DMDBORN4  11914 non-null  float64\n",
      " 12  DMDYRUSR  1875 non-null   float64\n",
      " 13  DMDEDUC2  7794 non-null   float64\n",
      " 14  DMDMARTZ  7792 non-null   float64\n",
      " 15  RIDEXPRG  1503 non-null   float64\n",
      " 16  DMDHHSIZ  11933 non-null  float64\n",
      " 17  DMDHRGND  4115 non-null   float64\n",
      " 18  DMDHRAGZ  4124 non-null   float64\n",
      " 19  DMDHREDZ  3746 non-null   float64\n",
      " 20  DMDHRMAZ  4020 non-null   float64\n",
      " 21  DMDHSEDZ  2127 non-null   float64\n",
      " 22  WTINT2YR  11933 non-null  float64\n",
      " 23  WTMEC2YR  11933 non-null  float64\n",
      " 24  SDMVSTRA  11933 non-null  float64\n",
      " 25  SDMVPSU   11933 non-null  float64\n",
      " 26  INDFMPIR  9892 non-null   float64\n",
      "dtypes: float64(27)\n",
      "memory usage: 2.5 MB\n",
      "<class 'pandas.core.frame.DataFrame'>\n",
      "RangeIndex: 11933 entries, 0 to 11932\n",
      "Data columns (total 27 columns):\n",
      " #   Column    Non-Null Count  Dtype  \n",
      "---  ------    --------------  -----  \n",
      " 0   SEQN      11933 non-null  float64\n",
      " 1   SDDSRVYR  11933 non-null  float64\n",
      " 2   RIDSTATR  11933 non-null  float64\n",
      " 3   RIAGENDR  11933 non-null  float64\n",
      " 4   RIDAGEYR  11933 non-null  float64\n",
      " 5   RIDAGEMN  377 non-null    float64\n",
      " 6   RIDRETH1  11933 non-null  float64\n",
      " 7   RIDRETH3  11933 non-null  float64\n",
      " 8   RIDEXMON  8860 non-null   float64\n",
      " 9   RIDEXAGM  2787 non-null   float64\n",
      " 10  DMQMILIZ  8301 non-null   float64\n",
      " 11  DMDBORN4  11914 non-null  float64\n",
      " 12  DMDYRUSR  1875 non-null   float64\n",
      " 13  DMDEDUC2  7794 non-null   float64\n",
      " 14  DMDMARTZ  7792 non-null   float64\n",
      " 15  RIDEXPRG  1503 non-null   float64\n",
      " 16  DMDHHSIZ  11933 non-null  float64\n",
      " 17  DMDHRGND  4115 non-null   float64\n",
      " 18  DMDHRAGZ  4124 non-null   float64\n",
      " 19  DMDHREDZ  3746 non-null   float64\n",
      " 20  DMDHRMAZ  4020 non-null   float64\n",
      " 21  DMDHSEDZ  2127 non-null   float64\n",
      " 22  WTINT2YR  11933 non-null  float64\n",
      " 23  WTMEC2YR  11933 non-null  float64\n",
      " 24  SDMVSTRA  11933 non-null  float64\n",
      " 25  SDMVPSU   11933 non-null  float64\n",
      " 26  INDFMPIR  9892 non-null   float64\n",
      "dtypes: float64(27)\n",
      "memory usage: 2.5 MB\n",
      "<class 'pandas.core.frame.DataFrame'>\n",
      "RangeIndex: 7199 entries, 0 to 7198\n",
      "Data columns (total 3 columns):\n",
      " #   Column   Non-Null Count  Dtype  \n",
      "---  ------   --------------  -----  \n",
      " 0   SEQN     7199 non-null   float64\n",
      " 1   WTPH2YR  7199 non-null   float64\n",
      " 2   LBXGH    6715 non-null   float64\n",
      "dtypes: float64(3)\n",
      "memory usage: 168.9 KB\n"
     ]
    }
   ],
   "source": [
    "df_demo.info()\n",
    "df_diet.info()\n",
    "df_a1c.info()\n"
   ]
  },
  {
   "cell_type": "code",
   "execution_count": 63,
   "id": "5cb46c50-6655-4474-ab9b-e2fa481535d8",
   "metadata": {},
   "outputs": [
    {
     "data": {
      "text/html": [
       "<div>\n",
       "<style scoped>\n",
       "    .dataframe tbody tr th:only-of-type {\n",
       "        vertical-align: middle;\n",
       "    }\n",
       "\n",
       "    .dataframe tbody tr th {\n",
       "        vertical-align: top;\n",
       "    }\n",
       "\n",
       "    .dataframe thead th {\n",
       "        text-align: right;\n",
       "    }\n",
       "</style>\n",
       "<table border=\"1\" class=\"dataframe\">\n",
       "  <thead>\n",
       "    <tr style=\"text-align: right;\">\n",
       "      <th></th>\n",
       "      <th>SEQN</th>\n",
       "      <th>WTPH2YR</th>\n",
       "      <th>LBXGH</th>\n",
       "    </tr>\n",
       "  </thead>\n",
       "  <tbody>\n",
       "    <tr>\n",
       "      <th>count</th>\n",
       "      <td>7199.000000</td>\n",
       "      <td>7.199000e+03</td>\n",
       "      <td>6715.000000</td>\n",
       "    </tr>\n",
       "    <tr>\n",
       "      <th>mean</th>\n",
       "      <td>136328.407696</td>\n",
       "      <td>3.889326e+04</td>\n",
       "      <td>5.709471</td>\n",
       "    </tr>\n",
       "    <tr>\n",
       "      <th>std</th>\n",
       "      <td>3442.024649</td>\n",
       "      <td>3.091880e+04</td>\n",
       "      <td>1.054899</td>\n",
       "    </tr>\n",
       "    <tr>\n",
       "      <th>min</th>\n",
       "      <td>130378.000000</td>\n",
       "      <td>5.397605e-79</td>\n",
       "      <td>3.200000</td>\n",
       "    </tr>\n",
       "    <tr>\n",
       "      <th>25%</th>\n",
       "      <td>133321.000000</td>\n",
       "      <td>1.878176e+04</td>\n",
       "      <td>5.200000</td>\n",
       "    </tr>\n",
       "    <tr>\n",
       "      <th>50%</th>\n",
       "      <td>136366.000000</td>\n",
       "      <td>3.103185e+04</td>\n",
       "      <td>5.500000</td>\n",
       "    </tr>\n",
       "    <tr>\n",
       "      <th>75%</th>\n",
       "      <td>139286.000000</td>\n",
       "      <td>4.962340e+04</td>\n",
       "      <td>5.800000</td>\n",
       "    </tr>\n",
       "    <tr>\n",
       "      <th>max</th>\n",
       "      <td>142310.000000</td>\n",
       "      <td>2.417289e+05</td>\n",
       "      <td>17.100000</td>\n",
       "    </tr>\n",
       "  </tbody>\n",
       "</table>\n",
       "</div>"
      ],
      "text/plain": [
       "                SEQN       WTPH2YR        LBXGH\n",
       "count    7199.000000  7.199000e+03  6715.000000\n",
       "mean   136328.407696  3.889326e+04     5.709471\n",
       "std      3442.024649  3.091880e+04     1.054899\n",
       "min    130378.000000  5.397605e-79     3.200000\n",
       "25%    133321.000000  1.878176e+04     5.200000\n",
       "50%    136366.000000  3.103185e+04     5.500000\n",
       "75%    139286.000000  4.962340e+04     5.800000\n",
       "max    142310.000000  2.417289e+05    17.100000"
      ]
     },
     "execution_count": 63,
     "metadata": {},
     "output_type": "execute_result"
    }
   ],
   "source": [
    "\n",
    "df_a1c.describe()"
   ]
  },
  {
   "cell_type": "code",
   "execution_count": null,
   "id": "62483a73-71eb-4cae-8166-7cf114d113be",
   "metadata": {},
   "outputs": [],
   "source": []
  }
 ],
 "metadata": {
  "kernelspec": {
   "display_name": "Python 3 (ipykernel)",
   "language": "python",
   "name": "python3"
  },
  "language_info": {
   "codemirror_mode": {
    "name": "ipython",
    "version": 3
   },
   "file_extension": ".py",
   "mimetype": "text/x-python",
   "name": "python",
   "nbconvert_exporter": "python",
   "pygments_lexer": "ipython3",
   "version": "3.9.7"
  }
 },
 "nbformat": 4,
 "nbformat_minor": 5
}
