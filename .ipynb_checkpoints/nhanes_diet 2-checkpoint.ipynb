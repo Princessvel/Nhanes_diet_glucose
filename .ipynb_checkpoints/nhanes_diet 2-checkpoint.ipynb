{
 "cells": [
  {
   "cell_type": "markdown",
   "id": "6154dc0d-401c-424e-ab49-a6ec3b5d8ec2",
   "metadata": {},
   "source": [
    "## Utilizing NHANES dataset 2021-2023 for data analysis\n",
    "### I sought to predict hemoglobin A1c levels (an indicator of having diabetes) utilizing diet and demographic information\n",
    "### The dataset can be found at [diet](https://wwwn.cdc.gov/Nchs/Data/Nhanes/Public/2021/DataFiles/DR1IFF_L.htm) [demographics](https://wwwn.cdc.gov/nchs/nhanes/search/datapage.aspx?Component=Demographics&Cycle=2021-2023) and [hemoglobin](https://wwwn.cdc.gov/nchs/nhanes/search/datapage.aspx?Component=Laboratory&Cycle=2021-2023)\n"
   ]
  },
  {
   "cell_type": "markdown",
   "id": "597ed25d-3b18-467a-9dec-f605ec28e278",
   "metadata": {},
   "source": [
    "### The following libraries below will be used for data analysis"
   ]
  },
  {
   "cell_type": "code",
   "execution_count": 1,
   "id": "b8c48557-783b-4948-93a8-5dc2a1527cbc",
   "metadata": {},
   "outputs": [],
   "source": [
    "import pandas as pd\n",
    "import numpy as np\n",
    "import matplotlib.pyplot as plt\n",
    "import seaborn as sns\n",
    "\n",
    "from sklearn.preprocessing import StandardScaler, LabelEncoder\n",
    "from sklearn.model_selection import train_test_split\n",
    "from sklearn.metrics import classification_report, confusion_matrix\n",
    "from sklearn.ensemble import RandomForestClassifier\n",
    "\n",
    "from sklearn.metrics import ConfusionMatrixDisplay\n",
    "\n",
    "from sklearn.ensemble import RandomForestClassifier\n",
    "\n",
    "import plotly.graph_objects as go\n",
    "\n"
   ]
  },
  {
   "cell_type": "markdown",
   "id": "fc418c06-630d-4777-8a2d-02c362865781",
   "metadata": {},
   "source": [
    "### The filepaths for the diet, demographics, and hemoglobin A1C are shown below"
   ]
  },
  {
   "cell_type": "code",
   "execution_count": 2,
   "id": "a6452a5a-bc3f-4da1-9ac9-22fdf54eae01",
   "metadata": {},
   "outputs": [],
   "source": [
    "diet_path = '/Users/velarieansu/Documents/datascience/DR1IFF_L.xpt'\n",
    "demo_path = '/Users/velarieansu/Documents/datascience/DEMO_L.xpt'\n",
    "a1c_path = '/Users/velarieansu/Documents/datascience/GHB_L.xpt'"
   ]
  },
  {
   "cell_type": "markdown",
   "id": "bc5e8e86-6b54-44d1-9b75-6b923005bb02",
   "metadata": {},
   "source": [
    "### Datasets were downloaded as SAS xport files\n",
    "#### Additionally, the head function was used to preview the dataframe for a quick inspection"
   ]
  },
  {
   "cell_type": "code",
   "execution_count": 3,
   "id": "0ce99055-9d02-413e-b174-78f4a288da26",
   "metadata": {},
   "outputs": [
    {
     "name": "stdout",
     "output_type": "stream",
     "text": [
      "       SEQN  SDDSRVYR  RIDSTATR  RIAGENDR  RIDAGEYR  RIDAGEMN  RIDRETH1  \\\n",
      "0  130378.0      12.0       2.0       1.0      43.0       NaN       5.0   \n",
      "1  130379.0      12.0       2.0       1.0      66.0       NaN       3.0   \n",
      "2  130380.0      12.0       2.0       2.0      44.0       NaN       2.0   \n",
      "3  130381.0      12.0       2.0       2.0       5.0       NaN       5.0   \n",
      "4  130382.0      12.0       2.0       1.0       2.0       NaN       3.0   \n",
      "\n",
      "   RIDRETH3  RIDEXMON  RIDEXAGM  ...  DMDHRGND  DMDHRAGZ  DMDHREDZ  DMDHRMAZ  \\\n",
      "0       6.0       2.0       NaN  ...       NaN       NaN       NaN       NaN   \n",
      "1       3.0       2.0       NaN  ...       NaN       NaN       NaN       NaN   \n",
      "2       2.0       1.0       NaN  ...       NaN       NaN       NaN       NaN   \n",
      "3       7.0       1.0      71.0  ...       2.0       2.0       2.0       3.0   \n",
      "4       3.0       2.0      34.0  ...       2.0       2.0       3.0       1.0   \n",
      "\n",
      "   DMDHSEDZ      WTINT2YR      WTMEC2YR  SDMVSTRA  SDMVPSU  INDFMPIR  \n",
      "0       NaN  50055.450807  54374.463898     173.0      2.0      5.00  \n",
      "1       NaN  29087.450605  34084.721548     173.0      2.0      5.00  \n",
      "2       NaN  80062.674301  81196.277992     174.0      1.0      1.41  \n",
      "3       NaN  38807.268902  55698.607106     182.0      2.0      1.53  \n",
      "4       2.0  30607.519774  36434.146346     182.0      2.0      3.60  \n",
      "\n",
      "[5 rows x 27 columns]\n"
     ]
    }
   ],
   "source": [
    "df_demo = pd.read_sas(demo_path, format='xport', encoding='utf-8')\n",
    "print(df_demo.head())"
   ]
  },
  {
   "cell_type": "code",
   "execution_count": 4,
   "id": "6de3ae44-aaeb-4cd1-807f-ca08b400ae9c",
   "metadata": {},
   "outputs": [
    {
     "name": "stdout",
     "output_type": "stream",
     "text": [
      "       SEQN       WTPH2YR  LBXGH\n",
      "0  130378.0  56042.129410    5.6\n",
      "1  130379.0  37435.705647    5.6\n",
      "2  130380.0  85328.844519    6.2\n",
      "3  130386.0  44526.214135    5.1\n",
      "4  130387.0  22746.296353    5.9\n"
     ]
    }
   ],
   "source": [
    "df_a1c = pd.read_sas(a1c_path, format='xport', encoding='utf-8')\n",
    "print(df_a1c.head())"
   ]
  },
  {
   "cell_type": "code",
   "execution_count": 5,
   "id": "84877775-6a28-4b4c-a031-b8098d7dd1c7",
   "metadata": {},
   "outputs": [
    {
     "name": "stdout",
     "output_type": "stream",
     "text": [
      "       SEQN        WTDRD1        WTDR2D  DR1ILINE  DR1DRSTZ  DR1EXMER  DRABF  \\\n",
      "0  130378.0  61366.555827  70554.222162       1.0       1.0      73.0    2.0   \n",
      "1  130378.0  61366.555827  70554.222162       2.0       1.0      73.0    2.0   \n",
      "2  130378.0  61366.555827  70554.222162       3.0       1.0      73.0    2.0   \n",
      "3  130378.0  61366.555827  70554.222162       4.0       1.0      73.0    2.0   \n",
      "4  130378.0  61366.555827  70554.222162       5.0       1.0      73.0    2.0   \n",
      "\n",
      "   DRDINT  DR1DBIH  DR1DAY  ...      DR1IM181      DR1IM201      DR1IM221  \\\n",
      "0     2.0     40.0     4.0  ...  5.397605e-79  5.397605e-79  5.397605e-79   \n",
      "1     2.0     40.0     4.0  ...  5.397605e-79  5.397605e-79  5.397605e-79   \n",
      "2     2.0     40.0     4.0  ...  5.397605e-79  5.397605e-79  5.397605e-79   \n",
      "3     2.0     40.0     4.0  ...  5.397605e-79  5.397605e-79  5.397605e-79   \n",
      "4     2.0     40.0     4.0  ...  6.530000e-01  7.000000e-03  5.397605e-79   \n",
      "\n",
      "       DR1IP182      DR1IP183      DR1IP184      DR1IP204      DR1IP205  \\\n",
      "0  5.397605e-79  5.397605e-79  5.397605e-79  5.397605e-79  5.397605e-79   \n",
      "1  5.397605e-79  5.397605e-79  5.397605e-79  5.397605e-79  5.397605e-79   \n",
      "2  3.000000e-03  5.397605e-79  5.397605e-79  5.397605e-79  5.397605e-79   \n",
      "3  5.397605e-79  5.397605e-79  5.397605e-79  5.397605e-79  5.397605e-79   \n",
      "4  1.418000e+00  1.890000e-01  5.397605e-79  5.397605e-79  5.397605e-79   \n",
      "\n",
      "       DR1IP225      DR1IP226  \n",
      "0  5.397605e-79  5.397605e-79  \n",
      "1  5.397605e-79  5.397605e-79  \n",
      "2  5.397605e-79  5.397605e-79  \n",
      "3  5.397605e-79  5.397605e-79  \n",
      "4  5.397605e-79  1.000000e-03  \n",
      "\n",
      "[5 rows x 84 columns]\n"
     ]
    }
   ],
   "source": [
    "df_diet = pd.read_sas(diet_path, format='xport', encoding='utf-8')\n",
    "print(df_diet.head())\n"
   ]
  },
  {
   "cell_type": "markdown",
   "id": "164a1f2d-007b-40fa-afe7-39d4aa6ca55d",
   "metadata": {},
   "source": [
    "#### Info was used for each dataset to provide a summary of the dataframe to help understand the structure"
   ]
  },
  {
   "cell_type": "code",
   "execution_count": 6,
   "id": "1b5c5241-5763-46df-b3d3-dbda953cbbba",
   "metadata": {},
   "outputs": [
    {
     "name": "stdout",
     "output_type": "stream",
     "text": [
      "<class 'pandas.core.frame.DataFrame'>\n",
      "RangeIndex: 11933 entries, 0 to 11932\n",
      "Data columns (total 27 columns):\n",
      " #   Column    Non-Null Count  Dtype  \n",
      "---  ------    --------------  -----  \n",
      " 0   SEQN      11933 non-null  float64\n",
      " 1   SDDSRVYR  11933 non-null  float64\n",
      " 2   RIDSTATR  11933 non-null  float64\n",
      " 3   RIAGENDR  11933 non-null  float64\n",
      " 4   RIDAGEYR  11933 non-null  float64\n",
      " 5   RIDAGEMN  377 non-null    float64\n",
      " 6   RIDRETH1  11933 non-null  float64\n",
      " 7   RIDRETH3  11933 non-null  float64\n",
      " 8   RIDEXMON  8860 non-null   float64\n",
      " 9   RIDEXAGM  2787 non-null   float64\n",
      " 10  DMQMILIZ  8301 non-null   float64\n",
      " 11  DMDBORN4  11914 non-null  float64\n",
      " 12  DMDYRUSR  1875 non-null   float64\n",
      " 13  DMDEDUC2  7794 non-null   float64\n",
      " 14  DMDMARTZ  7792 non-null   float64\n",
      " 15  RIDEXPRG  1503 non-null   float64\n",
      " 16  DMDHHSIZ  11933 non-null  float64\n",
      " 17  DMDHRGND  4115 non-null   float64\n",
      " 18  DMDHRAGZ  4124 non-null   float64\n",
      " 19  DMDHREDZ  3746 non-null   float64\n",
      " 20  DMDHRMAZ  4020 non-null   float64\n",
      " 21  DMDHSEDZ  2127 non-null   float64\n",
      " 22  WTINT2YR  11933 non-null  float64\n",
      " 23  WTMEC2YR  11933 non-null  float64\n",
      " 24  SDMVSTRA  11933 non-null  float64\n",
      " 25  SDMVPSU   11933 non-null  float64\n",
      " 26  INDFMPIR  9892 non-null   float64\n",
      "dtypes: float64(27)\n",
      "memory usage: 2.5 MB\n",
      "<class 'pandas.core.frame.DataFrame'>\n",
      "RangeIndex: 100116 entries, 0 to 100115\n",
      "Data columns (total 84 columns):\n",
      " #   Column    Non-Null Count   Dtype  \n",
      "---  ------    --------------   -----  \n",
      " 0   SEQN      100116 non-null  float64\n",
      " 1   WTDRD1    100116 non-null  float64\n",
      " 2   WTDR2D    100116 non-null  float64\n",
      " 3   DR1ILINE  100116 non-null  float64\n",
      " 4   DR1DRSTZ  100116 non-null  float64\n",
      " 5   DR1EXMER  100116 non-null  float64\n",
      " 6   DRABF     99847 non-null   float64\n",
      " 7   DRDINT    100116 non-null  float64\n",
      " 8   DR1DBIH   94128 non-null   float64\n",
      " 9   DR1DAY    100116 non-null  float64\n",
      " 10  DR1LANG   100025 non-null  float64\n",
      " 11  DR1CCMNM  100116 non-null  float64\n",
      " 12  DR1CCMTX  100116 non-null  float64\n",
      " 13  DR1_020   100116 non-null  float64\n",
      " 14  DR1_030Z  100116 non-null  float64\n",
      " 15  DR1FS     92784 non-null   float64\n",
      " 16  DR1_040Z  99787 non-null   float64\n",
      " 17  DR1IFDCD  100116 non-null  float64\n",
      " 18  DR1IGRMS  99787 non-null   float64\n",
      " 19  DR1IKCAL  99787 non-null   float64\n",
      " 20  DR1IPROT  99787 non-null   float64\n",
      " 21  DR1ICARB  99787 non-null   float64\n",
      " 22  DR1ISUGR  99787 non-null   float64\n",
      " 23  DR1IFIBE  99787 non-null   float64\n",
      " 24  DR1ITFAT  99787 non-null   float64\n",
      " 25  DR1ISFAT  99787 non-null   float64\n",
      " 26  DR1IMFAT  99787 non-null   float64\n",
      " 27  DR1IPFAT  99787 non-null   float64\n",
      " 28  DR1ICHOL  99787 non-null   float64\n",
      " 29  DR1IATOC  99787 non-null   float64\n",
      " 30  DR1IATOA  99787 non-null   float64\n",
      " 31  DR1IRET   99787 non-null   float64\n",
      " 32  DR1IVARA  99787 non-null   float64\n",
      " 33  DR1IACAR  99787 non-null   float64\n",
      " 34  DR1IBCAR  99787 non-null   float64\n",
      " 35  DR1ICRYP  99787 non-null   float64\n",
      " 36  DR1ILYCO  99787 non-null   float64\n",
      " 37  DR1ILZ    99787 non-null   float64\n",
      " 38  DR1IVB1   99787 non-null   float64\n",
      " 39  DR1IVB2   99787 non-null   float64\n",
      " 40  DR1INIAC  99787 non-null   float64\n",
      " 41  DR1IVB6   99787 non-null   float64\n",
      " 42  DR1IFOLA  99787 non-null   float64\n",
      " 43  DR1IFA    99787 non-null   float64\n",
      " 44  DR1IFF    99787 non-null   float64\n",
      " 45  DR1IFDFE  99787 non-null   float64\n",
      " 46  DR1ICHL   99787 non-null   float64\n",
      " 47  DR1IVB12  99787 non-null   float64\n",
      " 48  DR1IB12A  99787 non-null   float64\n",
      " 49  DR1IVC    99787 non-null   float64\n",
      " 50  DR1IVD    99787 non-null   float64\n",
      " 51  DR1IVK    99787 non-null   float64\n",
      " 52  DR1ICALC  99787 non-null   float64\n",
      " 53  DR1IPHOS  99787 non-null   float64\n",
      " 54  DR1IMAGN  99787 non-null   float64\n",
      " 55  DR1IIRON  99787 non-null   float64\n",
      " 56  DR1IZINC  99787 non-null   float64\n",
      " 57  DR1ICOPP  99787 non-null   float64\n",
      " 58  DR1ISODI  99787 non-null   float64\n",
      " 59  DR1IPOTA  99787 non-null   float64\n",
      " 60  DR1ISELE  99787 non-null   float64\n",
      " 61  DR1ICAFF  99787 non-null   float64\n",
      " 62  DR1ITHEO  99787 non-null   float64\n",
      " 63  DR1IALCO  99787 non-null   float64\n",
      " 64  DR1IMOIS  99787 non-null   float64\n",
      " 65  DR1IS040  99787 non-null   float64\n",
      " 66  DR1IS060  99787 non-null   float64\n",
      " 67  DR1IS080  99787 non-null   float64\n",
      " 68  DR1IS100  99787 non-null   float64\n",
      " 69  DR1IS120  99787 non-null   float64\n",
      " 70  DR1IS140  99787 non-null   float64\n",
      " 71  DR1IS160  99787 non-null   float64\n",
      " 72  DR1IS180  99787 non-null   float64\n",
      " 73  DR1IM161  99787 non-null   float64\n",
      " 74  DR1IM181  99787 non-null   float64\n",
      " 75  DR1IM201  99787 non-null   float64\n",
      " 76  DR1IM221  99787 non-null   float64\n",
      " 77  DR1IP182  99787 non-null   float64\n",
      " 78  DR1IP183  99787 non-null   float64\n",
      " 79  DR1IP184  99787 non-null   float64\n",
      " 80  DR1IP204  99787 non-null   float64\n",
      " 81  DR1IP205  99787 non-null   float64\n",
      " 82  DR1IP225  99787 non-null   float64\n",
      " 83  DR1IP226  99787 non-null   float64\n",
      "dtypes: float64(84)\n",
      "memory usage: 64.2 MB\n",
      "<class 'pandas.core.frame.DataFrame'>\n",
      "RangeIndex: 7199 entries, 0 to 7198\n",
      "Data columns (total 3 columns):\n",
      " #   Column   Non-Null Count  Dtype  \n",
      "---  ------   --------------  -----  \n",
      " 0   SEQN     7199 non-null   float64\n",
      " 1   WTPH2YR  7199 non-null   float64\n",
      " 2   LBXGH    6715 non-null   float64\n",
      "dtypes: float64(3)\n",
      "memory usage: 168.9 KB\n"
     ]
    }
   ],
   "source": [
    "df_demo.info()\n",
    "df_diet.info()\n",
    "df_a1c.info()\n"
   ]
  },
  {
   "cell_type": "markdown",
   "id": "97cfb87d-7373-44ba-9824-20f6501ae0b4",
   "metadata": {},
   "source": [
    "### The describe() function was used to generate descriptive statistics of specific numerical variables"
   ]
  },
  {
   "cell_type": "code",
   "execution_count": 7,
   "id": "5cb46c50-6655-4474-ab9b-e2fa481535d8",
   "metadata": {},
   "outputs": [
    {
     "data": {
      "text/html": [
       "<div>\n",
       "<style scoped>\n",
       "    .dataframe tbody tr th:only-of-type {\n",
       "        vertical-align: middle;\n",
       "    }\n",
       "\n",
       "    .dataframe tbody tr th {\n",
       "        vertical-align: top;\n",
       "    }\n",
       "\n",
       "    .dataframe thead th {\n",
       "        text-align: right;\n",
       "    }\n",
       "</style>\n",
       "<table border=\"1\" class=\"dataframe\">\n",
       "  <thead>\n",
       "    <tr style=\"text-align: right;\">\n",
       "      <th></th>\n",
       "      <th>LBXGH</th>\n",
       "    </tr>\n",
       "  </thead>\n",
       "  <tbody>\n",
       "    <tr>\n",
       "      <th>count</th>\n",
       "      <td>6715.000000</td>\n",
       "    </tr>\n",
       "    <tr>\n",
       "      <th>mean</th>\n",
       "      <td>5.709471</td>\n",
       "    </tr>\n",
       "    <tr>\n",
       "      <th>std</th>\n",
       "      <td>1.054899</td>\n",
       "    </tr>\n",
       "    <tr>\n",
       "      <th>min</th>\n",
       "      <td>3.200000</td>\n",
       "    </tr>\n",
       "    <tr>\n",
       "      <th>25%</th>\n",
       "      <td>5.200000</td>\n",
       "    </tr>\n",
       "    <tr>\n",
       "      <th>50%</th>\n",
       "      <td>5.500000</td>\n",
       "    </tr>\n",
       "    <tr>\n",
       "      <th>75%</th>\n",
       "      <td>5.800000</td>\n",
       "    </tr>\n",
       "    <tr>\n",
       "      <th>max</th>\n",
       "      <td>17.100000</td>\n",
       "    </tr>\n",
       "  </tbody>\n",
       "</table>\n",
       "</div>"
      ],
      "text/plain": [
       "             LBXGH\n",
       "count  6715.000000\n",
       "mean      5.709471\n",
       "std       1.054899\n",
       "min       3.200000\n",
       "25%       5.200000\n",
       "50%       5.500000\n",
       "75%       5.800000\n",
       "max      17.100000"
      ]
     },
     "execution_count": 7,
     "metadata": {},
     "output_type": "execute_result"
    }
   ],
   "source": [
    "df_a1c[[\"LBXGH\"]].describe()\n"
   ]
  },
  {
   "cell_type": "code",
   "execution_count": 8,
   "id": "5af5d42c-295f-4f7c-8f00-ba842067cbd3",
   "metadata": {},
   "outputs": [
    {
     "data": {
      "text/html": [
       "<div>\n",
       "<style scoped>\n",
       "    .dataframe tbody tr th:only-of-type {\n",
       "        vertical-align: middle;\n",
       "    }\n",
       "\n",
       "    .dataframe tbody tr th {\n",
       "        vertical-align: top;\n",
       "    }\n",
       "\n",
       "    .dataframe thead th {\n",
       "        text-align: right;\n",
       "    }\n",
       "</style>\n",
       "<table border=\"1\" class=\"dataframe\">\n",
       "  <thead>\n",
       "    <tr style=\"text-align: right;\">\n",
       "      <th></th>\n",
       "      <th>RIDAGEYR</th>\n",
       "    </tr>\n",
       "  </thead>\n",
       "  <tbody>\n",
       "    <tr>\n",
       "      <th>count</th>\n",
       "      <td>1.193300e+04</td>\n",
       "    </tr>\n",
       "    <tr>\n",
       "      <th>mean</th>\n",
       "      <td>3.831786e+01</td>\n",
       "    </tr>\n",
       "    <tr>\n",
       "      <th>std</th>\n",
       "      <td>2.560199e+01</td>\n",
       "    </tr>\n",
       "    <tr>\n",
       "      <th>min</th>\n",
       "      <td>5.397605e-79</td>\n",
       "    </tr>\n",
       "    <tr>\n",
       "      <th>25%</th>\n",
       "      <td>1.300000e+01</td>\n",
       "    </tr>\n",
       "    <tr>\n",
       "      <th>50%</th>\n",
       "      <td>3.700000e+01</td>\n",
       "    </tr>\n",
       "    <tr>\n",
       "      <th>75%</th>\n",
       "      <td>6.200000e+01</td>\n",
       "    </tr>\n",
       "    <tr>\n",
       "      <th>max</th>\n",
       "      <td>8.000000e+01</td>\n",
       "    </tr>\n",
       "  </tbody>\n",
       "</table>\n",
       "</div>"
      ],
      "text/plain": [
       "           RIDAGEYR\n",
       "count  1.193300e+04\n",
       "mean   3.831786e+01\n",
       "std    2.560199e+01\n",
       "min    5.397605e-79\n",
       "25%    1.300000e+01\n",
       "50%    3.700000e+01\n",
       "75%    6.200000e+01\n",
       "max    8.000000e+01"
      ]
     },
     "execution_count": 8,
     "metadata": {},
     "output_type": "execute_result"
    }
   ],
   "source": [
    "df_demo[[\"RIDAGEYR\"]].describe()"
   ]
  },
  {
   "cell_type": "code",
   "execution_count": 9,
   "id": "fc1f67cd-af89-4dc0-b737-eb79f6ee06f3",
   "metadata": {},
   "outputs": [
    {
     "data": {
      "text/html": [
       "<div>\n",
       "<style scoped>\n",
       "    .dataframe tbody tr th:only-of-type {\n",
       "        vertical-align: middle;\n",
       "    }\n",
       "\n",
       "    .dataframe tbody tr th {\n",
       "        vertical-align: top;\n",
       "    }\n",
       "\n",
       "    .dataframe thead th {\n",
       "        text-align: right;\n",
       "    }\n",
       "</style>\n",
       "<table border=\"1\" class=\"dataframe\">\n",
       "  <thead>\n",
       "    <tr style=\"text-align: right;\">\n",
       "      <th></th>\n",
       "      <th>DR1IKCAL</th>\n",
       "      <th>DR1IPROT</th>\n",
       "      <th>DR1ICARB</th>\n",
       "      <th>DR1ITFAT</th>\n",
       "    </tr>\n",
       "  </thead>\n",
       "  <tbody>\n",
       "    <tr>\n",
       "      <th>count</th>\n",
       "      <td>9.978700e+04</td>\n",
       "      <td>9.978700e+04</td>\n",
       "      <td>9.978700e+04</td>\n",
       "      <td>9.978700e+04</td>\n",
       "    </tr>\n",
       "    <tr>\n",
       "      <th>mean</th>\n",
       "      <td>1.291984e+02</td>\n",
       "      <td>4.747336e+00</td>\n",
       "      <td>1.505324e+01</td>\n",
       "      <td>5.373118e+00</td>\n",
       "    </tr>\n",
       "    <tr>\n",
       "      <th>std</th>\n",
       "      <td>1.834323e+02</td>\n",
       "      <td>9.862922e+00</td>\n",
       "      <td>2.311647e+01</td>\n",
       "      <td>9.906116e+00</td>\n",
       "    </tr>\n",
       "    <tr>\n",
       "      <th>min</th>\n",
       "      <td>5.397605e-79</td>\n",
       "      <td>5.397605e-79</td>\n",
       "      <td>5.397605e-79</td>\n",
       "      <td>5.397605e-79</td>\n",
       "    </tr>\n",
       "    <tr>\n",
       "      <th>25%</th>\n",
       "      <td>8.000000e+00</td>\n",
       "      <td>8.000000e-02</td>\n",
       "      <td>4.200000e-01</td>\n",
       "      <td>4.000000e-02</td>\n",
       "    </tr>\n",
       "    <tr>\n",
       "      <th>50%</th>\n",
       "      <td>7.300000e+01</td>\n",
       "      <td>9.000000e-01</td>\n",
       "      <td>5.980000e+00</td>\n",
       "      <td>9.300000e-01</td>\n",
       "    </tr>\n",
       "    <tr>\n",
       "      <th>75%</th>\n",
       "      <td>1.720000e+02</td>\n",
       "      <td>4.970000e+00</td>\n",
       "      <td>2.212000e+01</td>\n",
       "      <td>6.930000e+00</td>\n",
       "    </tr>\n",
       "    <tr>\n",
       "      <th>max</th>\n",
       "      <td>4.575000e+03</td>\n",
       "      <td>3.354800e+02</td>\n",
       "      <td>8.329500e+02</td>\n",
       "      <td>2.614600e+02</td>\n",
       "    </tr>\n",
       "  </tbody>\n",
       "</table>\n",
       "</div>"
      ],
      "text/plain": [
       "           DR1IKCAL      DR1IPROT      DR1ICARB      DR1ITFAT\n",
       "count  9.978700e+04  9.978700e+04  9.978700e+04  9.978700e+04\n",
       "mean   1.291984e+02  4.747336e+00  1.505324e+01  5.373118e+00\n",
       "std    1.834323e+02  9.862922e+00  2.311647e+01  9.906116e+00\n",
       "min    5.397605e-79  5.397605e-79  5.397605e-79  5.397605e-79\n",
       "25%    8.000000e+00  8.000000e-02  4.200000e-01  4.000000e-02\n",
       "50%    7.300000e+01  9.000000e-01  5.980000e+00  9.300000e-01\n",
       "75%    1.720000e+02  4.970000e+00  2.212000e+01  6.930000e+00\n",
       "max    4.575000e+03  3.354800e+02  8.329500e+02  2.614600e+02"
      ]
     },
     "execution_count": 9,
     "metadata": {},
     "output_type": "execute_result"
    }
   ],
   "source": [
    "df_diet[['DR1IKCAL','DR1IPROT','DR1ICARB', 'DR1ITFAT' ]].describe()"
   ]
  },
  {
   "cell_type": "markdown",
   "id": "8931101b-96d7-4331-a002-dfdc91693e45",
   "metadata": {},
   "source": [
    "### value_counts() shows the summary of categorical data of gender below"
   ]
  },
  {
   "cell_type": "code",
   "execution_count": 10,
   "id": "b1f82f75-24e4-4f77-b669-817c314c6aa2",
   "metadata": {},
   "outputs": [
    {
     "name": "stdout",
     "output_type": "stream",
     "text": [
      "2.0    6358\n",
      "1.0    5575\n",
      "Name: RIAGENDR, dtype: int64\n"
     ]
    }
   ],
   "source": [
    "print(df_demo['RIAGENDR'].value_counts())"
   ]
  },
  {
   "cell_type": "markdown",
   "id": "e5925595-b7ec-4cd5-a448-8c31e070bac7",
   "metadata": {},
   "source": [
    "### Datasets have many columns that are not relevant to this study thus selecting columns of interest "
   ]
  },
  {
   "cell_type": "code",
   "execution_count": 11,
   "id": "62483a73-71eb-4cae-8166-7cf114d113be",
   "metadata": {},
   "outputs": [],
   "source": [
    "# columns to keep \n",
    "demo = df_demo[['SEQN','RIAGENDR','RIDAGEYR']]"
   ]
  },
  {
   "cell_type": "code",
   "execution_count": 12,
   "id": "b66457df-aa25-4ec6-a019-798cf711219d",
   "metadata": {},
   "outputs": [],
   "source": [
    "diet = df_diet[['SEQN','DR1IKCAL','DR1IPROT','DR1ICARB', 'DR1ITFAT']]"
   ]
  },
  {
   "cell_type": "code",
   "execution_count": 13,
   "id": "6d5de4df-ddd4-4db0-8d87-7ead6b936f7b",
   "metadata": {},
   "outputs": [],
   "source": [
    "a1c= df_a1c [['SEQN', 'LBXGH']]"
   ]
  },
  {
   "cell_type": "code",
   "execution_count": 14,
   "id": "3a078d2d-1816-4921-8cfb-0602f405f4f6",
   "metadata": {},
   "outputs": [],
   "source": [
    "#### The value_counts function was used to count all the different gender of the participants.\n",
    "#### coding of 2 = Female and coding of 1 = Male\n",
    "#### See Link for details"
   ]
  },
  {
   "cell_type": "code",
   "execution_count": 15,
   "id": "f3b608d6-5944-4eaf-bd4d-3808d621b6ba",
   "metadata": {},
   "outputs": [
    {
     "data": {
      "text/plain": [
       "2.0    6358\n",
       "1.0    5575\n",
       "Name: RIAGENDR, dtype: int64"
      ]
     },
     "execution_count": 15,
     "metadata": {},
     "output_type": "execute_result"
    }
   ],
   "source": [
    "demo.RIAGENDR.value_counts()"
   ]
  },
  {
   "cell_type": "markdown",
   "id": "f9f354dd-7221-44f7-9c03-77a59e5bc39f",
   "metadata": {},
   "source": [
    "#### The variable name is replaced and the coded values of 1 and 2 are assigned to Male and Female respective;y"
   ]
  },
  {
   "cell_type": "code",
   "execution_count": 16,
   "id": "58479cc7-545c-45fd-abf9-bb181e2b0e2d",
   "metadata": {},
   "outputs": [],
   "source": [
    "### demo[\"Gender\"] = demo.RIAGENDR.replace({1: \"Male\", 2: \"Female\"})"
   ]
  },
  {
   "cell_type": "markdown",
   "id": "7fa3d713-d224-4eeb-8319-8fd938568a3d",
   "metadata": {},
   "source": [
    "#### Checking to make sure assignemnts were done correctly"
   ]
  },
  {
   "cell_type": "markdown",
   "id": "224225cb-c82d-48ee-aca4-536dab93592c",
   "metadata": {},
   "source": [
    "#### Checking for null and na for all dataframes"
   ]
  },
  {
   "cell_type": "code",
   "execution_count": 17,
   "id": "c3389c08-33a7-403c-9398-0dce29138c2d",
   "metadata": {},
   "outputs": [
    {
     "data": {
      "text/plain": [
       "SEQN        0\n",
       "RIAGENDR    0\n",
       "RIDAGEYR    0\n",
       "dtype: int64"
      ]
     },
     "execution_count": 17,
     "metadata": {},
     "output_type": "execute_result"
    }
   ],
   "source": [
    "demo.isna().sum()\n"
   ]
  },
  {
   "cell_type": "code",
   "execution_count": 18,
   "id": "abed2cb2-e56b-4bb6-a180-4ec90f3393fc",
   "metadata": {},
   "outputs": [
    {
     "data": {
      "text/plain": [
       "SEQN          0\n",
       "DR1IKCAL    329\n",
       "DR1IPROT    329\n",
       "DR1ICARB    329\n",
       "DR1ITFAT    329\n",
       "dtype: int64"
      ]
     },
     "execution_count": 18,
     "metadata": {},
     "output_type": "execute_result"
    }
   ],
   "source": [
    "diet.isna().sum()\n"
   ]
  },
  {
   "cell_type": "code",
   "execution_count": 19,
   "id": "635139fb-677d-44f6-bb16-3b2c62099d2f",
   "metadata": {},
   "outputs": [
    {
     "data": {
      "text/plain": [
       "SEQN       0\n",
       "LBXGH    484\n",
       "dtype: int64"
      ]
     },
     "execution_count": 19,
     "metadata": {},
     "output_type": "execute_result"
    }
   ],
   "source": [
    "a1c.isna().sum()"
   ]
  },
  {
   "cell_type": "markdown",
   "id": "1b847e22-8a55-4967-be47-5ee8fb7a5375",
   "metadata": {},
   "source": [
    "#### From above, it can be seen that there were no missing values for demographics, however, dietary data and hemoglobin A1C variables had 329 and 484 missing variables respectively"
   ]
  },
  {
   "cell_type": "markdown",
   "id": "9b12670c-dec1-4d15-b062-926c69d96cad",
   "metadata": {},
   "source": [
    "#### A1C levels will be converted into categorical variables based on clinical recommendations"
   ]
  },
  {
   "cell_type": "markdown",
   "id": "be8a4030-2bee-4cfb-88ef-8a9c0fb7cf3f",
   "metadata": {},
   "source": [
    "#### Writing a function to categorize A1C levels"
   ]
  },
  {
   "cell_type": "code",
   "execution_count": 20,
   "id": "1c2ff123-2877-404a-bd73-186522af76a6",
   "metadata": {},
   "outputs": [],
   "source": [
    "# Categorize A1c\n",
    "\n",
    "df_cat = a1c\n",
    "def a1c_levels(value):\n",
    "    if value < 5.7:\n",
    "        return 'Normal'\n",
    "    elif 5.7 <= value < 6.5:\n",
    "        return 'Prediabetes'\n",
    "    else:\n",
    "        return 'Diabetes'\n",
    "\n",
    "        \n"
   ]
  },
  {
   "cell_type": "markdown",
   "id": "6966546e-6e6e-4eb0-a7ad-dcd688a03944",
   "metadata": {},
   "source": [
    "### Create a new colum a1c_category to show the various levels of a1c categories"
   ]
  },
  {
   "cell_type": "code",
   "execution_count": 21,
   "id": "708b8aed-2fac-40c2-ba6b-0b2c2d363b32",
   "metadata": {},
   "outputs": [
    {
     "name": "stdout",
     "output_type": "stream",
     "text": [
      "       SEQN  LBXGH a1c_category\n",
      "0  130378.0    5.6       Normal\n",
      "1  130379.0    5.6       Normal\n",
      "2  130380.0    6.2  Prediabetes\n",
      "3  130386.0    5.1       Normal\n",
      "4  130387.0    5.9  Prediabetes\n"
     ]
    }
   ],
   "source": [
    "a1c['a1c_category'] = a1c['LBXGH'].apply(a1c_levels)\n",
    "\n",
    "# View the result\n",
    "print(a1c.head())"
   ]
  },
  {
   "cell_type": "code",
   "execution_count": 22,
   "id": "35634503-f9e7-4361-a4c6-0aa6243f45e7",
   "metadata": {},
   "outputs": [],
   "source": [
    "# Drop rows with missing target\n",
    "a1c = a1c.dropna(subset=['LBXGH'])"
   ]
  },
  {
   "cell_type": "markdown",
   "id": "b9c3756b-d3b2-4f64-b558-39f999a95e96",
   "metadata": {},
   "source": [
    "### Drop rows with missing features"
   ]
  },
  {
   "cell_type": "code",
   "execution_count": 23,
   "id": "e3c582f1-6731-43e4-85b8-9d424e87ba99",
   "metadata": {},
   "outputs": [],
   "source": [
    "demo = demo.dropna(subset=['RIAGENDR','RIDAGEYR'])\n"
   ]
  },
  {
   "cell_type": "code",
   "execution_count": 24,
   "id": "419a8bc7-4a0a-4ac1-a12f-10d21d00a277",
   "metadata": {},
   "outputs": [],
   "source": [
    "diet = diet.dropna(subset=['DR1ICARB','DR1IPROT','DR1ITFAT','DR1IKCAL'])"
   ]
  },
  {
   "cell_type": "code",
   "execution_count": 28,
   "id": "b805565e-3e55-4f5d-aef6-7efe80c4820d",
   "metadata": {},
   "outputs": [
    {
     "data": {
      "text/plain": [
       "SEQN            0\n",
       "LBXGH           0\n",
       "a1c_category    0\n",
       "dtype: int64"
      ]
     },
     "execution_count": 28,
     "metadata": {},
     "output_type": "execute_result"
    }
   ],
   "source": [
    "# Rechecking missing variables for target \n",
    "a1c.isna().sum()"
   ]
  },
  {
   "cell_type": "code",
   "execution_count": 29,
   "id": "f33a3eb1-cc0f-473c-9d58-966175ac3f4d",
   "metadata": {},
   "outputs": [
    {
     "data": {
      "text/plain": [
       "SEQN        0\n",
       "DR1IKCAL    0\n",
       "DR1IPROT    0\n",
       "DR1ICARB    0\n",
       "DR1ITFAT    0\n",
       "dtype: int64"
      ]
     },
     "execution_count": 29,
     "metadata": {},
     "output_type": "execute_result"
    }
   ],
   "source": [
    "# Rechecking missing variables for features\n",
    "diet.isna().sum()"
   ]
  },
  {
   "cell_type": "code",
   "execution_count": 30,
   "id": "bfba9455-da7a-47b1-b372-db2307cea2dc",
   "metadata": {},
   "outputs": [
    {
     "data": {
      "text/plain": [
       "SEQN        0\n",
       "RIAGENDR    0\n",
       "RIDAGEYR    0\n",
       "dtype: int64"
      ]
     },
     "execution_count": 30,
     "metadata": {},
     "output_type": "execute_result"
    }
   ],
   "source": [
    "demo.isna().sum()"
   ]
  },
  {
   "cell_type": "code",
   "execution_count": 31,
   "id": "22afaa05-cc18-4fbd-8da4-d0f52d9c1b47",
   "metadata": {},
   "outputs": [
    {
     "name": "stdout",
     "output_type": "stream",
     "text": [
      "(11933, 3)\n",
      "(99787, 5)\n",
      "(6715, 3)\n"
     ]
    }
   ],
   "source": [
    "print(demo.shape)\n",
    "print(diet.shape)\n",
    "print(a1c.shape)"
   ]
  },
  {
   "cell_type": "markdown",
   "id": "1c0578ff-4b8a-41af-a4b7-ed7d21417be7",
   "metadata": {},
   "source": [
    "### Encode categorical variables so that ML algorithms can be processed\n",
    "#### LabelEncoder() creates an encoder object that converts categorical labels into numeric \n",
    "#### fit_transform() will finds all unique values and will assign each one a number, and replaces the text with that number."
   ]
  },
  {
   "cell_type": "code",
   "execution_count": 33,
   "id": "486f3bd3-0482-4a69-881e-e19ecd5b61b6",
   "metadata": {},
   "outputs": [
    {
     "name": "stderr",
     "output_type": "stream",
     "text": [
      "/var/folders/fn/617n6h7x6mdb0vsrh4bmsw_c0000gn/T/ipykernel_10816/3193188903.py:5: SettingWithCopyWarning: \n",
      "A value is trying to be set on a copy of a slice from a DataFrame.\n",
      "Try using .loc[row_indexer,col_indexer] = value instead\n",
      "\n",
      "See the caveats in the documentation: https://pandas.pydata.org/pandas-docs/stable/user_guide/indexing.html#returning-a-view-versus-a-copy\n",
      "  a1c['a1c_encoded'] = le.fit_transform(a1c['a1c_category'])  # Normal = 1, Prediabetes = 2, Diabetes = 3\n"
     ]
    }
   ],
   "source": [
    "\n",
    "le = LabelEncoder()\n",
    "demo['gender_encoded'] = le.fit_transform(demo['RIAGENDR'])  # male =1 female =0\n",
    "\n",
    "# Encode target variable\n",
    "a1c['a1c_encoded'] = le.fit_transform(a1c['a1c_category'])  # Normal = 1, Prediabetes = 2, Diabetes = 3\n",
    "\n",
    "\n"
   ]
  },
  {
   "cell_type": "code",
   "execution_count": 34,
   "id": "19747fbe-1ddd-4ae7-9fcf-cdf482eb8ae4",
   "metadata": {},
   "outputs": [
    {
     "data": {
      "text/html": [
       "<div>\n",
       "<style scoped>\n",
       "    .dataframe tbody tr th:only-of-type {\n",
       "        vertical-align: middle;\n",
       "    }\n",
       "\n",
       "    .dataframe tbody tr th {\n",
       "        vertical-align: top;\n",
       "    }\n",
       "\n",
       "    .dataframe thead th {\n",
       "        text-align: right;\n",
       "    }\n",
       "</style>\n",
       "<table border=\"1\" class=\"dataframe\">\n",
       "  <thead>\n",
       "    <tr style=\"text-align: right;\">\n",
       "      <th></th>\n",
       "      <th>SEQN</th>\n",
       "      <th>LBXGH</th>\n",
       "      <th>a1c_category</th>\n",
       "      <th>a1c_encoded</th>\n",
       "    </tr>\n",
       "  </thead>\n",
       "  <tbody>\n",
       "    <tr>\n",
       "      <th>0</th>\n",
       "      <td>130378.0</td>\n",
       "      <td>5.6</td>\n",
       "      <td>Normal</td>\n",
       "      <td>1</td>\n",
       "    </tr>\n",
       "    <tr>\n",
       "      <th>1</th>\n",
       "      <td>130379.0</td>\n",
       "      <td>5.6</td>\n",
       "      <td>Normal</td>\n",
       "      <td>1</td>\n",
       "    </tr>\n",
       "    <tr>\n",
       "      <th>2</th>\n",
       "      <td>130380.0</td>\n",
       "      <td>6.2</td>\n",
       "      <td>Prediabetes</td>\n",
       "      <td>2</td>\n",
       "    </tr>\n",
       "    <tr>\n",
       "      <th>3</th>\n",
       "      <td>130386.0</td>\n",
       "      <td>5.1</td>\n",
       "      <td>Normal</td>\n",
       "      <td>1</td>\n",
       "    </tr>\n",
       "    <tr>\n",
       "      <th>4</th>\n",
       "      <td>130387.0</td>\n",
       "      <td>5.9</td>\n",
       "      <td>Prediabetes</td>\n",
       "      <td>2</td>\n",
       "    </tr>\n",
       "  </tbody>\n",
       "</table>\n",
       "</div>"
      ],
      "text/plain": [
       "       SEQN  LBXGH a1c_category  a1c_encoded\n",
       "0  130378.0    5.6       Normal            1\n",
       "1  130379.0    5.6       Normal            1\n",
       "2  130380.0    6.2  Prediabetes            2\n",
       "3  130386.0    5.1       Normal            1\n",
       "4  130387.0    5.9  Prediabetes            2"
      ]
     },
     "execution_count": 34,
     "metadata": {},
     "output_type": "execute_result"
    }
   ],
   "source": [
    "a1c.head()"
   ]
  },
  {
   "cell_type": "code",
   "execution_count": 35,
   "id": "07ab31af-62b5-4a75-a2d0-6cb8593049bf",
   "metadata": {},
   "outputs": [
    {
     "data": {
      "text/html": [
       "<div>\n",
       "<style scoped>\n",
       "    .dataframe tbody tr th:only-of-type {\n",
       "        vertical-align: middle;\n",
       "    }\n",
       "\n",
       "    .dataframe tbody tr th {\n",
       "        vertical-align: top;\n",
       "    }\n",
       "\n",
       "    .dataframe thead th {\n",
       "        text-align: right;\n",
       "    }\n",
       "</style>\n",
       "<table border=\"1\" class=\"dataframe\">\n",
       "  <thead>\n",
       "    <tr style=\"text-align: right;\">\n",
       "      <th></th>\n",
       "      <th>SEQN</th>\n",
       "      <th>RIAGENDR</th>\n",
       "      <th>RIDAGEYR</th>\n",
       "      <th>gender_encoded</th>\n",
       "    </tr>\n",
       "  </thead>\n",
       "  <tbody>\n",
       "    <tr>\n",
       "      <th>0</th>\n",
       "      <td>130378.0</td>\n",
       "      <td>1.0</td>\n",
       "      <td>43.0</td>\n",
       "      <td>0</td>\n",
       "    </tr>\n",
       "    <tr>\n",
       "      <th>1</th>\n",
       "      <td>130379.0</td>\n",
       "      <td>1.0</td>\n",
       "      <td>66.0</td>\n",
       "      <td>0</td>\n",
       "    </tr>\n",
       "    <tr>\n",
       "      <th>2</th>\n",
       "      <td>130380.0</td>\n",
       "      <td>2.0</td>\n",
       "      <td>44.0</td>\n",
       "      <td>1</td>\n",
       "    </tr>\n",
       "    <tr>\n",
       "      <th>3</th>\n",
       "      <td>130381.0</td>\n",
       "      <td>2.0</td>\n",
       "      <td>5.0</td>\n",
       "      <td>1</td>\n",
       "    </tr>\n",
       "    <tr>\n",
       "      <th>4</th>\n",
       "      <td>130382.0</td>\n",
       "      <td>1.0</td>\n",
       "      <td>2.0</td>\n",
       "      <td>0</td>\n",
       "    </tr>\n",
       "  </tbody>\n",
       "</table>\n",
       "</div>"
      ],
      "text/plain": [
       "       SEQN  RIAGENDR  RIDAGEYR  gender_encoded\n",
       "0  130378.0       1.0      43.0               0\n",
       "1  130379.0       1.0      66.0               0\n",
       "2  130380.0       2.0      44.0               1\n",
       "3  130381.0       2.0       5.0               1\n",
       "4  130382.0       1.0       2.0               0"
      ]
     },
     "execution_count": 35,
     "metadata": {},
     "output_type": "execute_result"
    }
   ],
   "source": [
    "demo.head()"
   ]
  },
  {
   "cell_type": "markdown",
   "id": "06574907-1f70-4ff9-be5a-c3357ddb938b",
   "metadata": {},
   "source": [
    "### Merge diet and demographic data"
   ]
  },
  {
   "cell_type": "code",
   "execution_count": 36,
   "id": "039e46ad-7fc6-49ce-9362-df1200992185",
   "metadata": {},
   "outputs": [
    {
     "name": "stdout",
     "output_type": "stream",
     "text": [
      "(78923, 11)\n",
      "       SEQN      DR1IKCAL      DR1IPROT      DR1ICARB      DR1ITFAT  RIAGENDR  \\\n",
      "0  130378.0  5.397605e-79  5.397605e-79  5.397605e-79  5.397605e-79       1.0   \n",
      "1  130378.0  5.397605e-79  5.397605e-79  5.397605e-79  5.397605e-79       1.0   \n",
      "2  130378.0  3.000000e+00  3.600000e-01  5.397605e-79  6.000000e-02       1.0   \n",
      "3  130378.0  5.397605e-79  5.397605e-79  5.397605e-79  5.397605e-79       1.0   \n",
      "4  130378.0  2.700000e+01  1.100000e-01  1.600000e-01  2.830000e+00       1.0   \n",
      "\n",
      "   RIDAGEYR  gender_encoded  LBXGH a1c_category  a1c_encoded  \n",
      "0      43.0               0    5.6       Normal            1  \n",
      "1      43.0               0    5.6       Normal            1  \n",
      "2      43.0               0    5.6       Normal            1  \n",
      "3      43.0               0    5.6       Normal            1  \n",
      "4      43.0               0    5.6       Normal            1  \n"
     ]
    }
   ],
   "source": [
    "merged_temp = pd.merge(diet, demo, on='SEQN', how='inner')\n",
    "merged_all = pd.merge(merged_temp, a1c, on='SEQN', how='inner')\n",
    "\n",
    "# Check result\n",
    "print(merged_all.shape)\n",
    "print(merged_all.head())"
   ]
  },
  {
   "cell_type": "markdown",
   "id": "7c3e492c-b2d5-4585-af22-f8bfb3ada5cf",
   "metadata": {},
   "source": [
    "## Showing some visualizations"
   ]
  },
  {
   "cell_type": "markdown",
   "id": "ce6d9a6a-0713-42f7-8c8d-94a8fc742a3f",
   "metadata": {},
   "source": [
    "### A1c distribution"
   ]
  },
  {
   "cell_type": "code",
   "execution_count": 37,
   "id": "d31caa35-67d8-4f8e-8f1a-6a39de8b9628",
   "metadata": {},
   "outputs": [
    {
     "data": {
      "image/png": "[encoded data removed]",
      "text/plain": [
       "<Figure size 432x288 with 1 Axes>"
      ]
     },
     "metadata": {
      "needs_background": "light"
     },
     "output_type": "display_data"
    }
   ],
   "source": [
    "label_map = {\n",
    "    0: 'Normal',\n",
    "    1: 'Prediabetes',\n",
    "    2: 'Diabetes'\n",
    "}\n",
    "merged_all['a1c_category_label'] = merged_all['a1c_encoded'].map(label_map)\n",
    "\n",
    "sns.countplot(data=merged_all, x='a1c_category_label', palette='Set2')\n",
    "plt.title(\"Distribution of A1C Categories\")\n",
    "plt.xlabel(\"A1C Category\")\n",
    "plt.ylabel(\"Count\")\n",
    "plt.show()\n"
   ]
  },
  {
   "cell_type": "markdown",
   "id": "34453c2d-a4af-4715-8830-9036c08cac2c",
   "metadata": {},
   "source": [
    "### From the histogram above, it can be observed that the participants classified as Normal (No diabetes) have the lowest count, as compared to Prediabetes(1) and diabetes (2) groups."
   ]
  },
  {
   "cell_type": "markdown",
   "id": "b2ae7075-5a6b-4ac8-bec7-741f22af1e38",
   "metadata": {},
   "source": [
    "### Boxplots below: Macronutrients by A1C Category"
   ]
  },
  {
   "cell_type": "code",
   "execution_count": 38,
   "id": "3c0da2ff-995a-406d-b960-ee4564203f0c",
   "metadata": {},
   "outputs": [
    {
     "data": {
      "image/png": "[encoded data removed]",
      "text/plain": [
       "<Figure size 432x288 with 1 Axes>"
      ]
     },
     "metadata": {
      "needs_background": "light"
     },
     "output_type": "display_data"
    }
   ],
   "source": [
    "sns.boxplot(data=merged_all, x='a1c_category_label', y='DR1ICARB', palette='pastel')\n",
    "plt.title(\"Carbohydrate Intake Across A1C Categories\")\n",
    "plt.ylabel(\"Carbohydrates (grams)\")\n",
    "plt.xlabel(\"A1C Category\")\n",
    "plt.show()\n"
   ]
  },
  {
   "cell_type": "code",
   "execution_count": 39,
   "id": "b2848fe3-bc67-4e4c-8dd2-bfab6b39edb5",
   "metadata": {},
   "outputs": [
    {
     "data": {
      "image/png": "[encoded data removed]",
      "text/plain": [
       "<Figure size 432x288 with 1 Axes>"
      ]
     },
     "metadata": {
      "needs_background": "light"
     },
     "output_type": "display_data"
    }
   ],
   "source": [
    "sns.boxplot(data=merged_all, x='a1c_category_label', y='DR1IPROT', palette='pastel')\n",
    "plt.title(\"Proteins Intake Across A1C Categories\")\n",
    "plt.ylabel(\"Proteins (grams)\")\n",
    "plt.xlabel(\"A1C Category\")\n",
    "plt.show()\n"
   ]
  },
  {
   "cell_type": "code",
   "execution_count": 40,
   "id": "d136a267-3dc6-40a0-8230-c2d4f91b3904",
   "metadata": {},
   "outputs": [
    {
     "data": {
      "image/png": "[encoded data removed]",
      "text/plain": [
       "<Figure size 432x288 with 1 Axes>"
      ]
     },
     "metadata": {
      "needs_background": "light"
     },
     "output_type": "display_data"
    }
   ],
   "source": [
    "sns.boxplot(data=merged_all, x='a1c_category_label', y='DR1ITFAT', palette='pastel')\n",
    "plt.title(\"Fat Intake Across A1C Categories\")\n",
    "plt.ylabel(\"Fat (grams)\")\n",
    "plt.xlabel(\"A1C Category\")\n",
    "plt.show()\n"
   ]
  },
  {
   "cell_type": "markdown",
   "id": "05ed444d-d777-4112-a230-5bc148cc8b70",
   "metadata": {},
   "source": [
    "### Heatmaps for correlations"
   ]
  },
  {
   "cell_type": "code",
   "execution_count": 41,
   "id": "edf4d74d-6d7e-4464-a194-f36ad92fb3ef",
   "metadata": {},
   "outputs": [
    {
     "data": {
      "image/png": "[encoded data removed]",
      "text/plain": [
       "<Figure size 432x288 with 2 Axes>"
      ]
     },
     "metadata": {
      "needs_background": "light"
     },
     "output_type": "display_data"
    }
   ],
   "source": [
    "features = ['RIDAGEYR', 'gender_encoded', 'DR1ICARB', 'DR1IPROT', 'DR1ITFAT', 'DR1IKCAL']\n",
    "corr = merged_all[features].corr()\n",
    "\n",
    "sns.heatmap(corr, annot=True, cmap='coolwarm', fmt='.2f')\n",
    "plt.title(\"Correlation Matrix of Dietary Features\")\n",
    "plt.show()\n"
   ]
  },
  {
   "cell_type": "markdown",
   "id": "0e886329-6d01-4555-9a0e-295175aa7d52",
   "metadata": {},
   "source": [
    "### Age vs Total Calories Colored by A1C"
   ]
  },
  {
   "cell_type": "markdown",
   "id": "47618c01-5698-41f0-925f-a622d9da7548",
   "metadata": {},
   "source": [
    "### Making the selection for the target and features "
   ]
  },
  {
   "cell_type": "code",
   "execution_count": 42,
   "id": "3a51664a-c2c1-44b5-9cd1-780de4a73b71",
   "metadata": {},
   "outputs": [],
   "source": [
    "features = ['RIDAGEYR', 'gender_encoded', 'DR1ICARB', 'DR1IPROT', 'DR1ITFAT', 'DR1IKCAL']\n",
    "X = merged_all[features]\n",
    "y = merged_all['a1c_encoded']\n"
   ]
  },
  {
   "cell_type": "code",
   "execution_count": 43,
   "id": "2161a902-e130-4c70-af9f-8d13b7e1a688",
   "metadata": {},
   "outputs": [
    {
     "name": "stdout",
     "output_type": "stream",
     "text": [
      "(78923, 6)\n",
      "(78923,)\n"
     ]
    }
   ],
   "source": [
    "print(X.shape)\n",
    "print(y.shape)"
   ]
  },
  {
   "cell_type": "markdown",
   "id": "77c72abf-e234-4ae5-8640-f0dc486ccf0a",
   "metadata": {},
   "source": [
    "### Split data\n",
    "#### Data splitting in machine learning helps in the creation of separate datasets which are critical when data is trained, validated, and tested. This is beneficial for the evaluation of model performance as well as help in preventing overfitting."
   ]
  },
  {
   "cell_type": "code",
   "execution_count": 44,
   "id": "e6c35c3e-af28-4d88-ae47-b1f527033f80",
   "metadata": {},
   "outputs": [],
   "source": [
    "X_train, X_test, y_train, y_test = train_test_split(X, y, test_size=0.2, random_state=42)\n"
   ]
  },
  {
   "cell_type": "markdown",
   "id": "203b1a95-7206-4c8f-aad0-a44625186bfc",
   "metadata": {},
   "source": [
    "### Scaling features also known as Z-score normalization\n",
    "#### In ML, this method is important in data preprocessing.\n",
    "#### Here, each feature is rescaled such that it has a standard deviation of 1 and a mean of 0\n"
   ]
  },
  {
   "cell_type": "code",
   "execution_count": 45,
   "id": "3f0d1f58-7eed-49de-853e-765c9c18a280",
   "metadata": {},
   "outputs": [],
   "source": [
    "scaler = StandardScaler()\n",
    "X_train_scaled = scaler.fit_transform(X_train)\n",
    "X_test_scaled = scaler.transform(X_test)\n"
   ]
  },
  {
   "cell_type": "markdown",
   "id": "f8470ece-7720-4931-869f-8430d765a03b",
   "metadata": {},
   "source": [
    "### Model Training\n",
    "#### In ML, models are trained so that they are able to learn the patterns/relationships in the data and transfer that by making accurate predictions in new data."
   ]
  },
  {
   "cell_type": "code",
   "execution_count": 46,
   "id": "7b54ef7f-231e-412b-8629-a1cfd2e60c10",
   "metadata": {},
   "outputs": [
    {
     "data": {
      "text/html": [
       "<style>#sk-container-id-1 {\n",
       "  /* Definition of color scheme common for light and dark mode */\n",
       "  --sklearn-color-text: #000;\n",
       "  --sklearn-color-text-muted: #666;\n",
       "  --sklearn-color-line: gray;\n",
       "  /* Definition of color scheme for unfitted estimators */\n",
       "  --sklearn-color-unfitted-level-0: #fff5e6;\n",
       "  --sklearn-color-unfitted-level-1: #f6e4d2;\n",
       "  --sklearn-color-unfitted-level-2: #ffe0b3;\n",
       "  --sklearn-color-unfitted-level-3: chocolate;\n",
       "  /* Definition of color scheme for fitted estimators */\n",
       "  --sklearn-color-fitted-level-0: #f0f8ff;\n",
       "  --sklearn-color-fitted-level-1: #d4ebff;\n",
       "  --sklearn-color-fitted-level-2: #b3dbfd;\n",
       "  --sklearn-color-fitted-level-3: cornflowerblue;\n",
       "\n",
       "  /* Specific color for light theme */\n",
       "  --sklearn-color-text-on-default-background: var(--sg-text-color, var(--theme-code-foreground, var(--jp-content-font-color1, black)));\n",
       "  --sklearn-color-background: var(--sg-background-color, var(--theme-background, var(--jp-layout-color0, white)));\n",
       "  --sklearn-color-border-box: var(--sg-text-color, var(--theme-code-foreground, var(--jp-content-font-color1, black)));\n",
       "  --sklearn-color-icon: #696969;\n",
       "\n",
       "  @media (prefers-color-scheme: dark) {\n",
       "    /* Redefinition of color scheme for dark theme */\n",
       "    --sklearn-color-text-on-default-background: var(--sg-text-color, var(--theme-code-foreground, var(--jp-content-font-color1, white)));\n",
       "    --sklearn-color-background: var(--sg-background-color, var(--theme-background, var(--jp-layout-color0, #111)));\n",
       "    --sklearn-color-border-box: var(--sg-text-color, var(--theme-code-foreground, var(--jp-content-font-color1, white)));\n",
       "    --sklearn-color-icon: #878787;\n",
       "  }\n",
       "}\n",
       "\n",
       "#sk-container-id-1 {\n",
       "  color: var(--sklearn-color-text);\n",
       "}\n",
       "\n",
       "#sk-container-id-1 pre {\n",
       "  padding: 0;\n",
       "}\n",
       "\n",
       "#sk-container-id-1 input.sk-hidden--visually {\n",
       "  border: 0;\n",
       "  clip: rect(1px 1px 1px 1px);\n",
       "  clip: rect(1px, 1px, 1px, 1px);\n",
       "  height: 1px;\n",
       "  margin: -1px;\n",
       "  overflow: hidden;\n",
       "  padding: 0;\n",
       "  position: absolute;\n",
       "  width: 1px;\n",
       "}\n",
       "\n",
       "#sk-container-id-1 div.sk-dashed-wrapped {\n",
       "  border: 1px dashed var(--sklearn-color-line);\n",
       "  margin: 0 0.4em 0.5em 0.4em;\n",
       "  box-sizing: border-box;\n",
       "  padding-bottom: 0.4em;\n",
       "  background-color: var(--sklearn-color-background);\n",
       "}\n",
       "\n",
       "#sk-container-id-1 div.sk-container {\n",
       "  /* jupyter's `normalize.less` sets `[hidden] { display: none; }`\n",
       "     but bootstrap.min.css set `[hidden] { display: none !important; }`\n",
       "     so we also need the `!important` here to be able to override the\n",
       "     default hidden behavior on the sphinx rendered scikit-learn.org.\n",
       "     See: https://github.com/scikit-learn/scikit-learn/issues/21755 */\n",
       "  display: inline-block !important;\n",
       "  position: relative;\n",
       "}\n",
       "\n",
       "#sk-container-id-1 div.sk-text-repr-fallback {\n",
       "  display: none;\n",
       "}\n",
       "\n",
       "div.sk-parallel-item,\n",
       "div.sk-serial,\n",
       "div.sk-item {\n",
       "  /* draw centered vertical line to link estimators */\n",
       "  background-image: linear-gradient(var(--sklearn-color-text-on-default-background), var(--sklearn-color-text-on-default-background));\n",
       "  background-size: 2px 100%;\n",
       "  background-repeat: no-repeat;\n",
       "  background-position: center center;\n",
       "}\n",
       "\n",
       "/* Parallel-specific style estimator block */\n",
       "\n",
       "#sk-container-id-1 div.sk-parallel-item::after {\n",
       "  content: \"\";\n",
       "  width: 100%;\n",
       "  border-bottom: 2px solid var(--sklearn-color-text-on-default-background);\n",
       "  flex-grow: 1;\n",
       "}\n",
       "\n",
       "#sk-container-id-1 div.sk-parallel {\n",
       "  display: flex;\n",
       "  align-items: stretch;\n",
       "  justify-content: center;\n",
       "  background-color: var(--sklearn-color-background);\n",
       "  position: relative;\n",
       "}\n",
       "\n",
       "#sk-container-id-1 div.sk-parallel-item {\n",
       "  display: flex;\n",
       "  flex-direction: column;\n",
       "}\n",
       "\n",
       "#sk-container-id-1 div.sk-parallel-item:first-child::after {\n",
       "  align-self: flex-end;\n",
       "  width: 50%;\n",
       "}\n",
       "\n",
       "#sk-container-id-1 div.sk-parallel-item:last-child::after {\n",
       "  align-self: flex-start;\n",
       "  width: 50%;\n",
       "}\n",
       "\n",
       "#sk-container-id-1 div.sk-parallel-item:only-child::after {\n",
       "  width: 0;\n",
       "}\n",
       "\n",
       "/* Serial-specific style estimator block */\n",
       "\n",
       "#sk-container-id-1 div.sk-serial {\n",
       "  display: flex;\n",
       "  flex-direction: column;\n",
       "  align-items: center;\n",
       "  background-color: var(--sklearn-color-background);\n",
       "  padding-right: 1em;\n",
       "  padding-left: 1em;\n",
       "}\n",
       "\n",
       "\n",
       "/* Toggleable style: style used for estimator/Pipeline/ColumnTransformer box that is\n",
       "clickable and can be expanded/collapsed.\n",
       "- Pipeline and ColumnTransformer use this feature and define the default style\n",
       "- Estimators will overwrite some part of the style using the `sk-estimator` class\n",
       "*/\n",
       "\n",
       "/* Pipeline and ColumnTransformer style (default) */\n",
       "\n",
       "#sk-container-id-1 div.sk-toggleable {\n",
       "  /* Default theme specific background. It is overwritten whether we have a\n",
       "  specific estimator or a Pipeline/ColumnTransformer */\n",
       "  background-color: var(--sklearn-color-background);\n",
       "}\n",
       "\n",
       "/* Toggleable label */\n",
       "#sk-container-id-1 label.sk-toggleable__label {\n",
       "  cursor: pointer;\n",
       "  display: flex;\n",
       "  width: 100%;\n",
       "  margin-bottom: 0;\n",
       "  padding: 0.5em;\n",
       "  box-sizing: border-box;\n",
       "  text-align: center;\n",
       "  align-items: start;\n",
       "  justify-content: space-between;\n",
       "  gap: 0.5em;\n",
       "}\n",
       "\n",
       "#sk-container-id-1 label.sk-toggleable__label .caption {\n",
       "  font-size: 0.6rem;\n",
       "  font-weight: lighter;\n",
       "  color: var(--sklearn-color-text-muted);\n",
       "}\n",
       "\n",
       "#sk-container-id-1 label.sk-toggleable__label-arrow:before {\n",
       "  /* Arrow on the left of the label */\n",
       "  content: \"▸\";\n",
       "  float: left;\n",
       "  margin-right: 0.25em;\n",
       "  color: var(--sklearn-color-icon);\n",
       "}\n",
       "\n",
       "#sk-container-id-1 label.sk-toggleable__label-arrow:hover:before {\n",
       "  color: var(--sklearn-color-text);\n",
       "}\n",
       "\n",
       "/* Toggleable content - dropdown */\n",
       "\n",
       "#sk-container-id-1 div.sk-toggleable__content {\n",
       "  max-height: 0;\n",
       "  max-width: 0;\n",
       "  overflow: hidden;\n",
       "  text-align: left;\n",
       "  /* unfitted */\n",
       "  background-color: var(--sklearn-color-unfitted-level-0);\n",
       "}\n",
       "\n",
       "#sk-container-id-1 div.sk-toggleable__content.fitted {\n",
       "  /* fitted */\n",
       "  background-color: var(--sklearn-color-fitted-level-0);\n",
       "}\n",
       "\n",
       "#sk-container-id-1 div.sk-toggleable__content pre {\n",
       "  margin: 0.2em;\n",
       "  border-radius: 0.25em;\n",
       "  color: var(--sklearn-color-text);\n",
       "  /* unfitted */\n",
       "  background-color: var(--sklearn-color-unfitted-level-0);\n",
       "}\n",
       "\n",
       "#sk-container-id-1 div.sk-toggleable__content.fitted pre {\n",
       "  /* unfitted */\n",
       "  background-color: var(--sklearn-color-fitted-level-0);\n",
       "}\n",
       "\n",
       "#sk-container-id-1 input.sk-toggleable__control:checked~div.sk-toggleable__content {\n",
       "  /* Expand drop-down */\n",
       "  max-height: 200px;\n",
       "  max-width: 100%;\n",
       "  overflow: auto;\n",
       "}\n",
       "\n",
       "#sk-container-id-1 input.sk-toggleable__control:checked~label.sk-toggleable__label-arrow:before {\n",
       "  content: \"▾\";\n",
       "}\n",
       "\n",
       "/* Pipeline/ColumnTransformer-specific style */\n",
       "\n",
       "#sk-container-id-1 div.sk-label input.sk-toggleable__control:checked~label.sk-toggleable__label {\n",
       "  color: var(--sklearn-color-text);\n",
       "  background-color: var(--sklearn-color-unfitted-level-2);\n",
       "}\n",
       "\n",
       "#sk-container-id-1 div.sk-label.fitted input.sk-toggleable__control:checked~label.sk-toggleable__label {\n",
       "  background-color: var(--sklearn-color-fitted-level-2);\n",
       "}\n",
       "\n",
       "/* Estimator-specific style */\n",
       "\n",
       "/* Colorize estimator box */\n",
       "#sk-container-id-1 div.sk-estimator input.sk-toggleable__control:checked~label.sk-toggleable__label {\n",
       "  /* unfitted */\n",
       "  background-color: var(--sklearn-color-unfitted-level-2);\n",
       "}\n",
       "\n",
       "#sk-container-id-1 div.sk-estimator.fitted input.sk-toggleable__control:checked~label.sk-toggleable__label {\n",
       "  /* fitted */\n",
       "  background-color: var(--sklearn-color-fitted-level-2);\n",
       "}\n",
       "\n",
       "#sk-container-id-1 div.sk-label label.sk-toggleable__label,\n",
       "#sk-container-id-1 div.sk-label label {\n",
       "  /* The background is the default theme color */\n",
       "  color: var(--sklearn-color-text-on-default-background);\n",
       "}\n",
       "\n",
       "/* On hover, darken the color of the background */\n",
       "#sk-container-id-1 div.sk-label:hover label.sk-toggleable__label {\n",
       "  color: var(--sklearn-color-text);\n",
       "  background-color: var(--sklearn-color-unfitted-level-2);\n",
       "}\n",
       "\n",
       "/* Label box, darken color on hover, fitted */\n",
       "#sk-container-id-1 div.sk-label.fitted:hover label.sk-toggleable__label.fitted {\n",
       "  color: var(--sklearn-color-text);\n",
       "  background-color: var(--sklearn-color-fitted-level-2);\n",
       "}\n",
       "\n",
       "/* Estimator label */\n",
       "\n",
       "#sk-container-id-1 div.sk-label label {\n",
       "  font-family: monospace;\n",
       "  font-weight: bold;\n",
       "  display: inline-block;\n",
       "  line-height: 1.2em;\n",
       "}\n",
       "\n",
       "#sk-container-id-1 div.sk-label-container {\n",
       "  text-align: center;\n",
       "}\n",
       "\n",
       "/* Estimator-specific */\n",
       "#sk-container-id-1 div.sk-estimator {\n",
       "  font-family: monospace;\n",
       "  border: 1px dotted var(--sklearn-color-border-box);\n",
       "  border-radius: 0.25em;\n",
       "  box-sizing: border-box;\n",
       "  margin-bottom: 0.5em;\n",
       "  /* unfitted */\n",
       "  background-color: var(--sklearn-color-unfitted-level-0);\n",
       "}\n",
       "\n",
       "#sk-container-id-1 div.sk-estimator.fitted {\n",
       "  /* fitted */\n",
       "  background-color: var(--sklearn-color-fitted-level-0);\n",
       "}\n",
       "\n",
       "/* on hover */\n",
       "#sk-container-id-1 div.sk-estimator:hover {\n",
       "  /* unfitted */\n",
       "  background-color: var(--sklearn-color-unfitted-level-2);\n",
       "}\n",
       "\n",
       "#sk-container-id-1 div.sk-estimator.fitted:hover {\n",
       "  /* fitted */\n",
       "  background-color: var(--sklearn-color-fitted-level-2);\n",
       "}\n",
       "\n",
       "/* Specification for estimator info (e.g. \"i\" and \"?\") */\n",
       "\n",
       "/* Common style for \"i\" and \"?\" */\n",
       "\n",
       ".sk-estimator-doc-link,\n",
       "a:link.sk-estimator-doc-link,\n",
       "a:visited.sk-estimator-doc-link {\n",
       "  float: right;\n",
       "  font-size: smaller;\n",
       "  line-height: 1em;\n",
       "  font-family: monospace;\n",
       "  background-color: var(--sklearn-color-background);\n",
       "  border-radius: 1em;\n",
       "  height: 1em;\n",
       "  width: 1em;\n",
       "  text-decoration: none !important;\n",
       "  margin-left: 0.5em;\n",
       "  text-align: center;\n",
       "  /* unfitted */\n",
       "  border: var(--sklearn-color-unfitted-level-1) 1pt solid;\n",
       "  color: var(--sklearn-color-unfitted-level-1);\n",
       "}\n",
       "\n",
       ".sk-estimator-doc-link.fitted,\n",
       "a:link.sk-estimator-doc-link.fitted,\n",
       "a:visited.sk-estimator-doc-link.fitted {\n",
       "  /* fitted */\n",
       "  border: var(--sklearn-color-fitted-level-1) 1pt solid;\n",
       "  color: var(--sklearn-color-fitted-level-1);\n",
       "}\n",
       "\n",
       "/* On hover */\n",
       "div.sk-estimator:hover .sk-estimator-doc-link:hover,\n",
       ".sk-estimator-doc-link:hover,\n",
       "div.sk-label-container:hover .sk-estimator-doc-link:hover,\n",
       ".sk-estimator-doc-link:hover {\n",
       "  /* unfitted */\n",
       "  background-color: var(--sklearn-color-unfitted-level-3);\n",
       "  color: var(--sklearn-color-background);\n",
       "  text-decoration: none;\n",
       "}\n",
       "\n",
       "div.sk-estimator.fitted:hover .sk-estimator-doc-link.fitted:hover,\n",
       ".sk-estimator-doc-link.fitted:hover,\n",
       "div.sk-label-container:hover .sk-estimator-doc-link.fitted:hover,\n",
       ".sk-estimator-doc-link.fitted:hover {\n",
       "  /* fitted */\n",
       "  background-color: var(--sklearn-color-fitted-level-3);\n",
       "  color: var(--sklearn-color-background);\n",
       "  text-decoration: none;\n",
       "}\n",
       "\n",
       "/* Span, style for the box shown on hovering the info icon */\n",
       ".sk-estimator-doc-link span {\n",
       "  display: none;\n",
       "  z-index: 9999;\n",
       "  position: relative;\n",
       "  font-weight: normal;\n",
       "  right: .2ex;\n",
       "  padding: .5ex;\n",
       "  margin: .5ex;\n",
       "  width: min-content;\n",
       "  min-width: 20ex;\n",
       "  max-width: 50ex;\n",
       "  color: var(--sklearn-color-text);\n",
       "  box-shadow: 2pt 2pt 4pt #999;\n",
       "  /* unfitted */\n",
       "  background: var(--sklearn-color-unfitted-level-0);\n",
       "  border: .5pt solid var(--sklearn-color-unfitted-level-3);\n",
       "}\n",
       "\n",
       ".sk-estimator-doc-link.fitted span {\n",
       "  /* fitted */\n",
       "  background: var(--sklearn-color-fitted-level-0);\n",
       "  border: var(--sklearn-color-fitted-level-3);\n",
       "}\n",
       "\n",
       ".sk-estimator-doc-link:hover span {\n",
       "  display: block;\n",
       "}\n",
       "\n",
       "/* \"?\"-specific style due to the `<a>` HTML tag */\n",
       "\n",
       "#sk-container-id-1 a.estimator_doc_link {\n",
       "  float: right;\n",
       "  font-size: 1rem;\n",
       "  line-height: 1em;\n",
       "  font-family: monospace;\n",
       "  background-color: var(--sklearn-color-background);\n",
       "  border-radius: 1rem;\n",
       "  height: 1rem;\n",
       "  width: 1rem;\n",
       "  text-decoration: none;\n",
       "  /* unfitted */\n",
       "  color: var(--sklearn-color-unfitted-level-1);\n",
       "  border: var(--sklearn-color-unfitted-level-1) 1pt solid;\n",
       "}\n",
       "\n",
       "#sk-container-id-1 a.estimator_doc_link.fitted {\n",
       "  /* fitted */\n",
       "  border: var(--sklearn-color-fitted-level-1) 1pt solid;\n",
       "  color: var(--sklearn-color-fitted-level-1);\n",
       "}\n",
       "\n",
       "/* On hover */\n",
       "#sk-container-id-1 a.estimator_doc_link:hover {\n",
       "  /* unfitted */\n",
       "  background-color: var(--sklearn-color-unfitted-level-3);\n",
       "  color: var(--sklearn-color-background);\n",
       "  text-decoration: none;\n",
       "}\n",
       "\n",
       "#sk-container-id-1 a.estimator_doc_link.fitted:hover {\n",
       "  /* fitted */\n",
       "  background-color: var(--sklearn-color-fitted-level-3);\n",
       "}\n",
       "</style><div id=\"sk-container-id-1\" class=\"sk-top-container\"><div class=\"sk-text-repr-fallback\"><pre>RandomForestClassifier(random_state=42)</pre><b>In a Jupyter environment, please rerun this cell to show the HTML representation or trust the notebook. <br />On GitHub, the HTML representation is unable to render, please try loading this page with nbviewer.org.</b></div><div class=\"sk-container\" hidden><div class=\"sk-item\"><div class=\"sk-estimator fitted sk-toggleable\"><input class=\"sk-toggleable__control sk-hidden--visually\" id=\"sk-estimator-id-1\" type=\"checkbox\" checked><label for=\"sk-estimator-id-1\" class=\"sk-toggleable__label fitted sk-toggleable__label-arrow\"><div><div>RandomForestClassifier</div></div><div><a class=\"sk-estimator-doc-link fitted\" rel=\"noreferrer\" target=\"_blank\" href=\"https://scikit-learn.org/1.6/modules/generated/sklearn.ensemble.RandomForestClassifier.html\">?<span>Documentation for RandomForestClassifier</span></a><span class=\"sk-estimator-doc-link fitted\">i<span>Fitted</span></span></div></label><div class=\"sk-toggleable__content fitted\"><pre>RandomForestClassifier(random_state=42)</pre></div> </div></div></div></div>"
      ],
      "text/plain": [
       "RandomForestClassifier(random_state=42)"
      ]
     },
     "execution_count": 46,
     "metadata": {},
     "output_type": "execute_result"
    }
   ],
   "source": [
    "model = RandomForestClassifier(random_state=42)\n",
    "model.fit(X_train_scaled, y_train)\n"
   ]
  },
  {
   "cell_type": "markdown",
   "id": "f1bf40ea-fca8-48af-a3e0-da1d20f5adbb",
   "metadata": {},
   "source": [
    "### Model Evaluation\n",
    "#### We determine how well the trained model above performs its task on the unseen data.\n",
    "#### Thus, evaluating the classification model that predicts whether a person is Normal, Prediabetes, or has Diabetes based on the test features."
   ]
  },
  {
   "cell_type": "code",
   "execution_count": 47,
   "id": "4c0c388a-bddd-4693-a394-a3ef981bbd11",
   "metadata": {},
   "outputs": [
    {
     "name": "stdout",
     "output_type": "stream",
     "text": [
      "[[ 234 1011  477]\n",
      " [ 292 8362 1440]\n",
      " [ 193 2389 1387]]\n",
      "              precision    recall  f1-score   support\n",
      "\n",
      "      Normal       0.33      0.14      0.19      1722\n",
      " Prediabetes       0.71      0.83      0.77     10094\n",
      "    Diabetes       0.42      0.35      0.38      3969\n",
      "\n",
      "    accuracy                           0.63     15785\n",
      "   macro avg       0.49      0.44      0.45     15785\n",
      "weighted avg       0.60      0.63      0.61     15785\n",
      "\n"
     ]
    }
   ],
   "source": [
    "y_pred = model.predict(X_test_scaled)\n",
    "\n",
    "print(confusion_matrix(y_test, y_pred))\n",
    "print(classification_report(y_test, y_pred, target_names=['Normal', 'Prediabetes', 'Diabetes']))\n"
   ]
  },
  {
   "cell_type": "markdown",
   "id": "54858ae0-ca0f-4ada-b6dd-48d2026c9b42",
   "metadata": {},
   "source": [
    " ### The results above shows the confusion matrix. \n",
    "#### Precision shows how many were actually in the class\n",
    "#### Recall shows how many were correctly identified\n",
    "#### F1-score combines precision and recall into one metric -- balanced metric\n",
    "#### Support is the number of true instances\n",
    "#### Based on the output, out of 1722 for normal, only 238 were predicted-- most of them were predicted as prediabetes or diabetes\n",
    "#### Overall, prediabetes were classified as best with f1-score of 0.76, normal is worse recall 14%\n",
    "#### The overall accuracy shows 63% for correct predictions\n",
    "\n",
    "#### The model is biased toward the dominant class prediabetes most likely due to the imbalance\n",
    "Perhaps different models need to be experimented "
   ]
  },
  {
   "cell_type": "markdown",
   "id": "6ddc99f8-54b6-4a8e-bbc9-e3875560c74f",
   "metadata": {},
   "source": [
    "### Feature Importance\n",
    "\n",
    "### As the name implies, helps to understand the features with greatest influence on a models prediction"
   ]
  },
  {
   "cell_type": "code",
   "execution_count": 48,
   "id": "8a0b68f9-eb2a-4a69-b2a7-d853f6c50b78",
   "metadata": {},
   "outputs": [
    {
     "data": {
      "image/png": "[encoded data removed]",
      "text/plain": [
       "<Figure size 432x288 with 1 Axes>"
      ]
     },
     "metadata": {
      "needs_background": "light"
     },
     "output_type": "display_data"
    }
   ],
   "source": [
    "importances = pd.Series(model.feature_importances_, index=features)\n",
    "importances.sort_values().plot(kind='barh')\n",
    "plt.title('Feature Importance')\n",
    "plt.show()\n"
   ]
  },
  {
   "cell_type": "markdown",
   "id": "b31b67db-2cbb-43a5-96c5-aeb30c891427",
   "metadata": {},
   "source": [
    "\n",
    "### Utilizing class weights\n",
    "#### Method is chosen because it does not alter the data distribution making it \n",
    "   ####  important for clinical interpretability."
   ]
  },
  {
   "cell_type": "code",
   "execution_count": 49,
   "id": "b5a44917-1a54-4969-8294-baf094bb0460",
   "metadata": {},
   "outputs": [
    {
     "name": "stdout",
     "output_type": "stream",
     "text": [
      "              precision    recall  f1-score   support\n",
      "\n",
      "      Normal       0.25      0.24      0.24      1722\n",
      " Prediabetes       0.73      0.77      0.75     10094\n",
      "    Diabetes       0.41      0.36      0.38      3969\n",
      "\n",
      "    accuracy                           0.61     15785\n",
      "   macro avg       0.46      0.45      0.46     15785\n",
      "weighted avg       0.59      0.61      0.60     15785\n",
      "\n",
      "[[ 406  854  462]\n",
      " [ 736 7743 1615]\n",
      " [ 465 2075 1429]]\n"
     ]
    }
   ],
   "source": [
    "\n",
    "\n",
    "\n",
    "# Use a classifier with class weights\n",
    "model = RandomForestClassifier(class_weight='balanced', random_state=42)\n",
    "model.fit(X_train, y_train)\n",
    "\n",
    "# Predict and evaluate\n",
    "y_pred = model.predict(X_test)\n",
    "\n",
    "print(classification_report(y_test, y_pred, target_names=['Normal', 'Prediabetes', 'Diabetes']))\n",
    "print(confusion_matrix(y_test, y_pred))\n"
   ]
  },
  {
   "cell_type": "markdown",
   "id": "907bf671-d93c-48dd-becb-57ed0fc6d6a2",
   "metadata": {},
   "source": [
    "#### Results still shows some improvement over previous model\n",
    "#### We can see that the old recall of 0.14 is now 0.23 an the old f1-score 0.20 is now 0.24\n",
    "#### Accuracy decreased slightly but overall this model looks fair mostly for the detection of those classified as Normal and Diabetes"
   ]
  },
  {
   "cell_type": "markdown",
   "id": "5bb29578-ddd0-4998-b876-9669cfd426bc",
   "metadata": {},
   "source": [
    "### Visualizing the Confusion Matrix"
   ]
  },
  {
   "cell_type": "code",
   "execution_count": 50,
   "id": "df0ceb50-52d0-401c-a9e0-8452e7ccc49c",
   "metadata": {},
   "outputs": [
    {
     "data": {
      "image/png": "[encoded data removed]",
      "text/plain": [
       "<Figure size 432x288 with 2 Axes>"
      ]
     },
     "metadata": {
      "needs_background": "light"
     },
     "output_type": "display_data"
    }
   ],
   "source": [
    "\n",
    "\n",
    "\n",
    "# Display confusion matrix with class names and colors\n",
    "ConfusionMatrixDisplay.from_predictions(\n",
    "    y_test,\n",
    "    y_pred,\n",
    "    display_labels=['Normal', 'Prediabetes', 'Diabetes'],\n",
    "    cmap='Blues',\n",
    "    values_format='d'  # Format as integers\n",
    ")\n",
    "\n",
    "plt.title(\"Confusion Matrix - Random Forest with Balanced Class Weights\")\n",
    "plt.xlabel(\"Predicted Label\")\n",
    "plt.ylabel(\"True Label\")\n",
    "plt.tight_layout()\n",
    "plt.show()\n"
   ]
  }
 ],
 "metadata": {
  "kernelspec": {
   "display_name": "Python 3 (ipykernel)",
   "language": "python",
   "name": "python3"
  },
  "language_info": {
   "codemirror_mode": {
    "name": "ipython",
    "version": 3
   },
   "file_extension": ".py",
   "mimetype": "text/x-python",
   "name": "python",
   "nbconvert_exporter": "python",
   "pygments_lexer": "ipython3",
   "version": "3.9.7"
  }
 },
 "nbformat": 4,
 "nbformat_minor": 5
}
