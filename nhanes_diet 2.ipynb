{
 "cells": [
  {
   "cell_type": "markdown",
   "id": "6154dc0d-401c-424e-ab49-a6ec3b5d8ec2",
   "metadata": {},
   "source": [
    "## Utilizing NHANES dataset 2021-2023 for data analysis\n",
    "### I sought to predict hemoglobin A1c levels (an indicator of having diabetes) utilizing diet and demographic information\n",
    "### The dataset can be found at [diet](https://wwwn.cdc.gov/Nchs/Data/Nhanes/Public/2021/DataFiles/DR1IFF_L.htm) [demographics](https://wwwn.cdc.gov/nchs/nhanes/search/datapage.aspx?Component=Demographics&Cycle=2021-2023) and [hemoglobin](https://wwwn.cdc.gov/nchs/nhanes/search/datapage.aspx?Component=Laboratory&Cycle=2021-2023)\n"
   ]
  },
  {
   "cell_type": "markdown",
   "id": "597ed25d-3b18-467a-9dec-f605ec28e278",
   "metadata": {},
   "source": [
    "### The following libraries below will be used for data analysis"
   ]
  },
  {
   "cell_type": "code",
   "execution_count": null,
   "id": "b8c48557-783b-4948-93a8-5dc2a1527cbc",
   "metadata": {},
   "outputs": [],
   "source": [
    "import pandas as pd\n",
    "import numpy as np\n",
    "import matplotlib.pyplot as plt\n",
    "import seaborn as sns\n",
    "\n",
    "from sklearn.preprocessing import StandardScaler, LabelEncoder\n",
    "from sklearn.model_selection import train_test_split\n",
    "from sklearn.metrics import classification_report, confusion_matrix\n",
    "from sklearn.ensemble import RandomForestClassifier\n",
    "\n",
    "from sklearn.metrics import ConfusionMatrixDisplay\n",
    "\n",
    "from sklearn.ensemble import RandomForestClassifier\n",
    "\n",
    "import plotly.graph_objects as go\n",
    "\n"
   ]
  },
  {
   "cell_type": "markdown",
   "id": "fc418c06-630d-4777-8a2d-02c362865781",
   "metadata": {},
   "source": [
    "### The filepaths for the diet, demographics, and hemoglobin A1C are shown below"
   ]
  },
  {
   "cell_type": "code",
   "execution_count": null,
   "id": "a6452a5a-bc3f-4da1-9ac9-22fdf54eae01",
   "metadata": {},
   "outputs": [],
   "source": [
    "diet_path = '/Users/velarieansu/Documents/datascience/DR1IFF_L.xpt'\n",
    "demo_path = '/Users/velarieansu/Documents/datascience/DEMO_L.xpt'\n",
    "a1c_path = '/Users/velarieansu/Documents/datascience/GHB_L.xpt'"
   ]
  },
  {
   "cell_type": "markdown",
   "id": "bc5e8e86-6b54-44d1-9b75-6b923005bb02",
   "metadata": {},
   "source": [
    "### Datasets were downloaded as SAS xport files\n",
    "#### Additionally, the head function was used to preview the dataframe for a quick inspection"
   ]
  },
  {
   "cell_type": "code",
   "execution_count": null,
   "id": "0ce99055-9d02-413e-b174-78f4a288da26",
   "metadata": {},
   "outputs": [],
   "source": [
    "df_demo = pd.read_sas(demo_path, format='xport', encoding='utf-8')\n",
    "print(df_demo.head())"
   ]
  },
  {
   "cell_type": "code",
   "execution_count": null,
   "id": "6de3ae44-aaeb-4cd1-807f-ca08b400ae9c",
   "metadata": {},
   "outputs": [],
   "source": [
    "df_a1c = pd.read_sas(a1c_path, format='xport', encoding='utf-8')\n",
    "print(df_a1c.head())"
   ]
  },
  {
   "cell_type": "code",
   "execution_count": null,
   "id": "84877775-6a28-4b4c-a031-b8098d7dd1c7",
   "metadata": {},
   "outputs": [],
   "source": [
    "df_diet = pd.read_sas(diet_path, format='xport', encoding='utf-8')\n",
    "print(df_diet.head())\n"
   ]
  },
  {
   "cell_type": "markdown",
   "id": "164a1f2d-007b-40fa-afe7-39d4aa6ca55d",
   "metadata": {},
   "source": [
    "#### Info was used for each dataset to provide a summary of the dataframe to help understand the structure"
   ]
  },
  {
   "cell_type": "code",
   "execution_count": null,
   "id": "1b5c5241-5763-46df-b3d3-dbda953cbbba",
   "metadata": {},
   "outputs": [],
   "source": [
    "df_demo.info()\n",
    "df_diet.info()\n",
    "df_a1c.info()\n"
   ]
  },
  {
   "cell_type": "markdown",
   "id": "97cfb87d-7373-44ba-9824-20f6501ae0b4",
   "metadata": {},
   "source": [
    "### The describe() function was used to generate descriptive statistics of specific numerical variables"
   ]
  },
  {
   "cell_type": "code",
   "execution_count": null,
   "id": "5cb46c50-6655-4474-ab9b-e2fa481535d8",
   "metadata": {},
   "outputs": [],
   "source": [
    "df_a1c[[\"LBXGH\"]].describe()\n"
   ]
  },
  {
   "cell_type": "code",
   "execution_count": null,
   "id": "5af5d42c-295f-4f7c-8f00-ba842067cbd3",
   "metadata": {},
   "outputs": [],
   "source": [
    "df_demo[[\"RIDAGEYR\"]].describe()"
   ]
  },
  {
   "cell_type": "code",
   "execution_count": null,
   "id": "fc1f67cd-af89-4dc0-b737-eb79f6ee06f3",
   "metadata": {},
   "outputs": [],
   "source": [
    "df_diet[['DR1IKCAL','DR1IPROT','DR1ICARB', 'DR1ITFAT' ]].describe()"
   ]
  },
  {
   "cell_type": "markdown",
   "id": "8931101b-96d7-4331-a002-dfdc91693e45",
   "metadata": {},
   "source": [
    "### value_counts() shows the summary of categorical data of gender below"
   ]
  },
  {
   "cell_type": "code",
   "execution_count": null,
   "id": "b1f82f75-24e4-4f77-b669-817c314c6aa2",
   "metadata": {},
   "outputs": [],
   "source": [
    "print(df_demo['RIAGENDR'].value_counts())"
   ]
  },
  {
   "cell_type": "markdown",
   "id": "e5925595-b7ec-4cd5-a448-8c31e070bac7",
   "metadata": {},
   "source": [
    "### Datasets have many columns that are not relevant to this study thus selecting columns of interest "
   ]
  },
  {
   "cell_type": "code",
   "execution_count": null,
   "id": "62483a73-71eb-4cae-8166-7cf114d113be",
   "metadata": {},
   "outputs": [],
   "source": [
    "# columns to keep \n",
    "demo = df_demo[['SEQN','RIAGENDR','RIDAGEYR']]"
   ]
  },
  {
   "cell_type": "code",
   "execution_count": null,
   "id": "b66457df-aa25-4ec6-a019-798cf711219d",
   "metadata": {},
   "outputs": [],
   "source": [
    "diet = df_diet[['SEQN','DR1IKCAL','DR1IPROT','DR1ICARB', 'DR1ITFAT']]"
   ]
  },
  {
   "cell_type": "code",
   "execution_count": null,
   "id": "6d5de4df-ddd4-4db0-8d87-7ead6b936f7b",
   "metadata": {},
   "outputs": [],
   "source": [
    "a1c= df_a1c [['SEQN', 'LBXGH']]"
   ]
  },
  {
   "cell_type": "code",
   "execution_count": null,
   "id": "3a078d2d-1816-4921-8cfb-0602f405f4f6",
   "metadata": {},
   "outputs": [],
   "source": [
    "#### The value_counts function was used to count all the different gender of the participants.\n",
    "#### coding of 2 = Female and coding of 1 = Male\n",
    "#### See Link for details"
   ]
  },
  {
   "cell_type": "code",
   "execution_count": null,
   "id": "f3b608d6-5944-4eaf-bd4d-3808d621b6ba",
   "metadata": {},
   "outputs": [],
   "source": [
    "demo.RIAGENDR.value_counts()"
   ]
  },
  {
   "cell_type": "markdown",
   "id": "f9f354dd-7221-44f7-9c03-77a59e5bc39f",
   "metadata": {},
   "source": [
    "#### The variable name is replaced and the coded values of 1 and 2 are assigned to Male and Female respective;y"
   ]
  },
  {
   "cell_type": "code",
   "execution_count": null,
   "id": "58479cc7-545c-45fd-abf9-bb181e2b0e2d",
   "metadata": {},
   "outputs": [],
   "source": [
    "### demo[\"Gender\"] = demo.RIAGENDR.replace({1: \"Male\", 2: \"Female\"})"
   ]
  },
  {
   "cell_type": "markdown",
   "id": "7fa3d713-d224-4eeb-8319-8fd938568a3d",
   "metadata": {},
   "source": [
    "#### Checking to make sure assignemnts were done correctly"
   ]
  },
  {
   "cell_type": "markdown",
   "id": "224225cb-c82d-48ee-aca4-536dab93592c",
   "metadata": {},
   "source": [
    "#### Checking for null and na for all dataframes"
   ]
  },
  {
   "cell_type": "code",
   "execution_count": null,
   "id": "c3389c08-33a7-403c-9398-0dce29138c2d",
   "metadata": {},
   "outputs": [],
   "source": [
    "demo.isna().sum()\n"
   ]
  },
  {
   "cell_type": "code",
   "execution_count": null,
   "id": "abed2cb2-e56b-4bb6-a180-4ec90f3393fc",
   "metadata": {},
   "outputs": [],
   "source": [
    "diet.isna().sum()\n"
   ]
  },
  {
   "cell_type": "code",
   "execution_count": null,
   "id": "635139fb-677d-44f6-bb16-3b2c62099d2f",
   "metadata": {},
   "outputs": [],
   "source": [
    "a1c.isna().sum()"
   ]
  },
  {
   "cell_type": "markdown",
   "id": "1b847e22-8a55-4967-be47-5ee8fb7a5375",
   "metadata": {},
   "source": [
    "#### From above, it can be seen that there were no missing values for demographics, however, dietary data and hemoglobin A1C variables had 329 and 484 missing variables respectively"
   ]
  },
  {
   "cell_type": "markdown",
   "id": "9b12670c-dec1-4d15-b062-926c69d96cad",
   "metadata": {},
   "source": [
    "#### A1C levels will be converted into categorical variables based on clinical recommendations"
   ]
  },
  {
   "cell_type": "markdown",
   "id": "be8a4030-2bee-4cfb-88ef-8a9c0fb7cf3f",
   "metadata": {},
   "source": [
    "#### Writing a function to categorize A1C levels"
   ]
  },
  {
   "cell_type": "code",
   "execution_count": null,
   "id": "1c2ff123-2877-404a-bd73-186522af76a6",
   "metadata": {},
   "outputs": [],
   "source": [
    "# Categorize A1c\n",
    "\n",
    "df_cat = a1c\n",
    "def a1c_levels(value):\n",
    "    if value < 5.7:\n",
    "        return 'Normal'\n",
    "    elif 5.7 <= value < 6.5:\n",
    "        return 'Prediabetes'\n",
    "    else:\n",
    "        return 'Diabetes'\n",
    "\n",
    "        \n"
   ]
  },
  {
   "cell_type": "markdown",
   "id": "6966546e-6e6e-4eb0-a7ad-dcd688a03944",
   "metadata": {},
   "source": [
    "### Create a new colum a1c_category to show the various levels of a1c categories"
   ]
  },
  {
   "cell_type": "code",
   "execution_count": null,
   "id": "708b8aed-2fac-40c2-ba6b-0b2c2d363b32",
   "metadata": {},
   "outputs": [],
   "source": [
    "a1c['a1c_category'] = a1c['LBXGH'].apply(a1c_levels)\n",
    "\n",
    "# View the result\n",
    "print(a1c.head())"
   ]
  },
  {
   "cell_type": "code",
   "execution_count": null,
   "id": "35634503-f9e7-4361-a4c6-0aa6243f45e7",
   "metadata": {},
   "outputs": [],
   "source": [
    "# Drop rows with missing target\n",
    "a1c = a1c.dropna(subset=['LBXGH'])"
   ]
  },
  {
   "cell_type": "markdown",
   "id": "b9c3756b-d3b2-4f64-b558-39f999a95e96",
   "metadata": {},
   "source": [
    "### Drop rows with missing features"
   ]
  },
  {
   "cell_type": "code",
   "execution_count": null,
   "id": "e3c582f1-6731-43e4-85b8-9d424e87ba99",
   "metadata": {},
   "outputs": [],
   "source": [
    "demo = demo.dropna(subset=['RIAGENDR','RIDAGEYR'])\n"
   ]
  },
  {
   "cell_type": "code",
   "execution_count": null,
   "id": "419a8bc7-4a0a-4ac1-a12f-10d21d00a277",
   "metadata": {},
   "outputs": [],
   "source": [
    "diet = diet.dropna(subset=['DR1ICARB','DR1IPROT','DR1ITFAT','DR1IKCAL'])"
   ]
  },
  {
   "cell_type": "code",
   "execution_count": null,
   "id": "275daa88-5780-4c63-81f8-eafda0c8fc61",
   "metadata": {},
   "outputs": [],
   "source": [
    "print(data[features].shape)\n",
    "print(data['a1c_label'].shape)\n"
   ]
  },
  {
   "cell_type": "code",
   "execution_count": null,
   "id": "b805565e-3e55-4f5d-aef6-7efe80c4820d",
   "metadata": {},
   "outputs": [],
   "source": [
    "# Rechecking missing variables for target \n",
    "a1c.isna().sum()"
   ]
  },
  {
   "cell_type": "code",
   "execution_count": null,
   "id": "f33a3eb1-cc0f-473c-9d58-966175ac3f4d",
   "metadata": {},
   "outputs": [],
   "source": [
    "# Rechecking missing variables for features\n",
    "diet.isna().sum()"
   ]
  },
  {
   "cell_type": "code",
   "execution_count": null,
   "id": "bfba9455-da7a-47b1-b372-db2307cea2dc",
   "metadata": {},
   "outputs": [],
   "source": [
    "demo.isna().sum()"
   ]
  },
  {
   "cell_type": "code",
   "execution_count": null,
   "id": "22afaa05-cc18-4fbd-8da4-d0f52d9c1b47",
   "metadata": {},
   "outputs": [],
   "source": [
    "print(demo.shape)\n",
    "print(diet.shape)\n",
    "print(a1c.shape)"
   ]
  },
  {
   "cell_type": "markdown",
   "id": "1c0578ff-4b8a-41af-a4b7-ed7d21417be7",
   "metadata": {},
   "source": [
    "### Encode categorical variables so that ML algorithms can be processed\n",
    "#### LabelEncoder() creates an encoder object that converts categorical labels into numeric \n",
    "#### fit_transform() will finds all unique values and will assign each one a number, and replaces the text with that number."
   ]
  },
  {
   "cell_type": "code",
   "execution_count": null,
   "id": "486f3bd3-0482-4a69-881e-e19ecd5b61b6",
   "metadata": {},
   "outputs": [],
   "source": [
    "\n",
    "le = LabelEncoder()\n",
    "demo['gender_encoded'] = le.fit_transform(demo['Gender'])  # male =1 female =0\n",
    "\n",
    "# Encode target variable\n",
    "a1c['a1c_encoded'] = le.fit_transform(a1c['a1c_category'])  # Normal = 1, Prediabetes = 2, Diabetes = 3\n",
    "\n",
    "\n"
   ]
  },
  {
   "cell_type": "code",
   "execution_count": null,
   "id": "19747fbe-1ddd-4ae7-9fcf-cdf482eb8ae4",
   "metadata": {},
   "outputs": [],
   "source": [
    "a1c.head()"
   ]
  },
  {
   "cell_type": "code",
   "execution_count": null,
   "id": "07ab31af-62b5-4a75-a2d0-6cb8593049bf",
   "metadata": {},
   "outputs": [],
   "source": [
    "demo.head()"
   ]
  },
  {
   "cell_type": "markdown",
   "id": "06574907-1f70-4ff9-be5a-c3357ddb938b",
   "metadata": {},
   "source": [
    "### Merge diet and demographic data"
   ]
  },
  {
   "cell_type": "code",
   "execution_count": null,
   "id": "039e46ad-7fc6-49ce-9362-df1200992185",
   "metadata": {},
   "outputs": [],
   "source": [
    "merged_temp = pd.merge(diet, demo, on='SEQN', how='inner')\n",
    "merged_all = pd.merge(merged_temp, a1c, on='SEQN', how='inner')\n",
    "\n",
    "# Check result\n",
    "print(merged_all.shape)\n",
    "print(merged_all.head())"
   ]
  },
  {
   "cell_type": "markdown",
   "id": "7c3e492c-b2d5-4585-af22-f8bfb3ada5cf",
   "metadata": {},
   "source": [
    "## Showing some visualizations"
   ]
  },
  {
   "cell_type": "markdown",
   "id": "ce6d9a6a-0713-42f7-8c8d-94a8fc742a3f",
   "metadata": {},
   "source": [
    "### A1c distribution"
   ]
  },
  {
   "cell_type": "code",
   "execution_count": null,
   "id": "d31caa35-67d8-4f8e-8f1a-6a39de8b9628",
   "metadata": {},
   "outputs": [],
   "source": [
    "label_map = {\n",
    "    0: 'Normal',\n",
    "    1: 'Prediabetes',\n",
    "    2: 'Diabetes'\n",
    "}\n",
    "merged_all['a1c_category_label'] = merged_all['a1c_encoded'].map(label_map)\n",
    "\n",
    "sns.countplot(data=merged_all, x='a1c_category_label', palette='Set2')\n",
    "plt.title(\"Distribution of A1C Categories\")\n",
    "plt.xlabel(\"A1C Category\")\n",
    "plt.ylabel(\"Count\")\n",
    "plt.show()\n"
   ]
  },
  {
   "cell_type": "markdown",
   "id": "34453c2d-a4af-4715-8830-9036c08cac2c",
   "metadata": {},
   "source": [
    "### From the histogram above, it can be observed that the participants classified as Normal (No diabetes) have the lowest count, as compared to Prediabetes(1) and diabetes (2) groups."
   ]
  },
  {
   "cell_type": "markdown",
   "id": "b2ae7075-5a6b-4ac8-bec7-741f22af1e38",
   "metadata": {},
   "source": [
    "### Boxplots below: Macronutrients by A1C Category"
   ]
  },
  {
   "cell_type": "code",
   "execution_count": null,
   "id": "3c0da2ff-995a-406d-b960-ee4564203f0c",
   "metadata": {},
   "outputs": [],
   "source": [
    "sns.boxplot(data=merged_all, x='a1c_category_label', y='DR1ICARB', palette='pastel')\n",
    "plt.title(\"Carbohydrate Intake Across A1C Categories\")\n",
    "plt.ylabel(\"Carbohydrates (grams)\")\n",
    "plt.xlabel(\"A1C Category\")\n",
    "plt.show()\n"
   ]
  },
  {
   "cell_type": "code",
   "execution_count": null,
   "id": "b2848fe3-bc67-4e4c-8dd2-bfab6b39edb5",
   "metadata": {},
   "outputs": [],
   "source": [
    "sns.boxplot(data=merged_all, x='a1c_category_label', y='DR1IPROT', palette='pastel')\n",
    "plt.title(\"Proteins Intake Across A1C Categories\")\n",
    "plt.ylabel(\"Proteins (grams)\")\n",
    "plt.xlabel(\"A1C Category\")\n",
    "plt.show()\n"
   ]
  },
  {
   "cell_type": "code",
   "execution_count": null,
   "id": "d136a267-3dc6-40a0-8230-c2d4f91b3904",
   "metadata": {},
   "outputs": [],
   "source": [
    "sns.boxplot(data=merged_all, x='a1c_category_label', y='DR1ITFAT', palette='pastel')\n",
    "plt.title(\"Fat Intake Across A1C Categories\")\n",
    "plt.ylabel(\"Fat (grams)\")\n",
    "plt.xlabel(\"A1C Category\")\n",
    "plt.show()\n"
   ]
  },
  {
   "cell_type": "markdown",
   "id": "05ed444d-d777-4112-a230-5bc148cc8b70",
   "metadata": {},
   "source": [
    "### Heatmaps for correlations"
   ]
  },
  {
   "cell_type": "code",
   "execution_count": null,
   "id": "edf4d74d-6d7e-4464-a194-f36ad92fb3ef",
   "metadata": {},
   "outputs": [],
   "source": [
    "features = ['RIDAGEYR', 'gender_encoded', 'DR1ICARB', 'DR1IPROT', 'DR1ITFAT', 'DR1IKCAL']\n",
    "corr = merged_all[features].corr()\n",
    "\n",
    "sns.heatmap(corr, annot=True, cmap='coolwarm', fmt='.2f')\n",
    "plt.title(\"Correlation Matrix of Dietary Features\")\n",
    "plt.show()\n"
   ]
  },
  {
   "cell_type": "markdown",
   "id": "0e886329-6d01-4555-9a0e-295175aa7d52",
   "metadata": {},
   "source": [
    "### Age vs Total Calories Colored by A1C"
   ]
  },
  {
   "cell_type": "markdown",
   "id": "47618c01-5698-41f0-925f-a622d9da7548",
   "metadata": {},
   "source": [
    "### Making the selection for the target and features "
   ]
  },
  {
   "cell_type": "code",
   "execution_count": null,
   "id": "3a51664a-c2c1-44b5-9cd1-780de4a73b71",
   "metadata": {},
   "outputs": [],
   "source": [
    "features = ['RIDAGEYR', 'gender_encoded', 'DR1ICARB', 'DR1IPROT', 'DR1ITFAT', 'DR1IKCAL']\n",
    "X = merged_all[features]\n",
    "y = merged_all['a1c_encoded']\n"
   ]
  },
  {
   "cell_type": "code",
   "execution_count": null,
   "id": "2161a902-e130-4c70-af9f-8d13b7e1a688",
   "metadata": {},
   "outputs": [],
   "source": [
    "print(X.shape)\n",
    "print(y.shape)"
   ]
  },
  {
   "cell_type": "markdown",
   "id": "77c72abf-e234-4ae5-8640-f0dc486ccf0a",
   "metadata": {},
   "source": [
    "### Split data\n",
    "#### Data splitting in machine learning helps in the creation of separate datasets which are critical when data is trained, validated, and tested. This is beneficial for the evaluation of model performance as well as help in preventing overfitting."
   ]
  },
  {
   "cell_type": "code",
   "execution_count": null,
   "id": "e6c35c3e-af28-4d88-ae47-b1f527033f80",
   "metadata": {},
   "outputs": [],
   "source": [
    "X_train, X_test, y_train, y_test = train_test_split(X, y, test_size=0.2, random_state=42)\n"
   ]
  },
  {
   "cell_type": "markdown",
   "id": "203b1a95-7206-4c8f-aad0-a44625186bfc",
   "metadata": {},
   "source": [
    "### Scaling features also known as Z-score normalization\n",
    "#### In ML, this method is important in data preprocessing.\n",
    "#### Here, each feature is rescaled such that it has a standard deviation of 1 and a mean of 0\n"
   ]
  },
  {
   "cell_type": "code",
   "execution_count": null,
   "id": "3f0d1f58-7eed-49de-853e-765c9c18a280",
   "metadata": {},
   "outputs": [],
   "source": [
    "scaler = StandardScaler()\n",
    "X_train_scaled = scaler.fit_transform(X_train)\n",
    "X_test_scaled = scaler.transform(X_test)\n"
   ]
  },
  {
   "cell_type": "markdown",
   "id": "f8470ece-7720-4931-869f-8430d765a03b",
   "metadata": {},
   "source": [
    "### Model Training\n",
    "#### In ML, models are trained so that they are able to learn the patterns/relationships in the data and transfer that by making accurate predictions in new data."
   ]
  },
  {
   "cell_type": "code",
   "execution_count": null,
   "id": "7b54ef7f-231e-412b-8629-a1cfd2e60c10",
   "metadata": {},
   "outputs": [],
   "source": [
    "model = RandomForestClassifier(random_state=42)\n",
    "model.fit(X_train_scaled, y_train)\n"
   ]
  },
  {
   "cell_type": "markdown",
   "id": "f1bf40ea-fca8-48af-a3e0-da1d20f5adbb",
   "metadata": {},
   "source": [
    "### Model Evaluation\n",
    "#### We determine how well the trained model above performs its task on the unseen data.\n",
    "#### Thus, evaluating the classification model that predicts whether a person is Normal, Prediabetes, or has Diabetes based on the test features."
   ]
  },
  {
   "cell_type": "code",
   "execution_count": null,
   "id": "4c0c388a-bddd-4693-a394-a3ef981bbd11",
   "metadata": {},
   "outputs": [],
   "source": [
    "y_pred = model.predict(X_test_scaled)\n",
    "\n",
    "print(confusion_matrix(y_test, y_pred))\n",
    "print(classification_report(y_test, y_pred, target_names=['Normal', 'Prediabetes', 'Diabetes']))\n"
   ]
  },
  {
   "cell_type": "markdown",
   "id": "54858ae0-ca0f-4ada-b6dd-48d2026c9b42",
   "metadata": {},
   "source": [
    " ### The results above shows the confusion matrix. \n",
    "#### Precision shows how many were actually in the class\n",
    "#### Recall shows how many were correctly identified\n",
    "#### F1-score combines precision and recall into one metric -- balanced metric\n",
    "#### Support is the number of true instances\n",
    "#### Based on the output, out of 1722 for normal, only 238 were predicted-- most of them were predicted as prediabetes or diabetes\n",
    "#### Overall, prediabetes were classified as best with f1-score of 0.76, normal is worse recall 14%\n",
    "#### The overall accuracy shows 63% for correct predictions\n",
    "\n",
    "#### The model is biased toward the dominant class prediabetes most likely due to the imbalance\n",
    "Perhaps different models need to be experimented "
   ]
  },
  {
   "cell_type": "markdown",
   "id": "6ddc99f8-54b6-4a8e-bbc9-e3875560c74f",
   "metadata": {},
   "source": [
    "### Feature Importance\n",
    "\n",
    "### As the name implies, helps to understand the features with greatest influence on a models prediction"
   ]
  },
  {
   "cell_type": "code",
   "execution_count": null,
   "id": "8a0b68f9-eb2a-4a69-b2a7-d853f6c50b78",
   "metadata": {},
   "outputs": [],
   "source": [
    "importances = pd.Series(model.feature_importances_, index=features)\n",
    "importances.sort_values().plot(kind='barh')\n",
    "plt.title('Feature Importance')\n",
    "plt.show()\n"
   ]
  },
  {
   "cell_type": "markdown",
   "id": "b31b67db-2cbb-43a5-96c5-aeb30c891427",
   "metadata": {},
   "source": [
    "\n",
    "### Utilizing class weights\n",
    "#### Method is chosen because it does not alter the data distribution making it \n",
    "   ####  important for clinical interpretability."
   ]
  },
  {
   "cell_type": "code",
   "execution_count": null,
   "id": "b5a44917-1a54-4969-8294-baf094bb0460",
   "metadata": {},
   "outputs": [],
   "source": [
    "\n",
    "\n",
    "\n",
    "# Use a classifier with class weights\n",
    "model = RandomForestClassifier(class_weight='balanced', random_state=42)\n",
    "model.fit(X_train, y_train)\n",
    "\n",
    "# Predict and evaluate\n",
    "y_pred = model.predict(X_test)\n",
    "\n",
    "print(classification_report(y_test, y_pred, target_names=['Normal', 'Prediabetes', 'Diabetes']))\n",
    "print(confusion_matrix(y_test, y_pred))\n"
   ]
  },
  {
   "cell_type": "markdown",
   "id": "907bf671-d93c-48dd-becb-57ed0fc6d6a2",
   "metadata": {},
   "source": [
    "#### Results still shows some improvement over previous model\n",
    "#### We can see that the old recall of 0.14 is now 0.23 an the old f1-score 0.20 is now 0.24\n",
    "#### Accuracy decreased slightly but overall this model looks fair mostly for the detection of those classified as Normal and Diabetes"
   ]
  },
  {
   "cell_type": "markdown",
   "id": "5bb29578-ddd0-4998-b876-9669cfd426bc",
   "metadata": {},
   "source": [
    "### Visualizing the Confusion Matrix"
   ]
  },
  {
   "cell_type": "code",
   "execution_count": null,
   "id": "df0ceb50-52d0-401c-a9e0-8452e7ccc49c",
   "metadata": {},
   "outputs": [],
   "source": [
    "\n",
    "\n",
    "\n",
    "# Display confusion matrix with class names and colors\n",
    "ConfusionMatrixDisplay.from_predictions(\n",
    "    y_test,\n",
    "    y_pred,\n",
    "    display_labels=['Normal', 'Prediabetes', 'Diabetes'],\n",
    "    cmap='Blues',\n",
    "    values_format='d'  # Format as integers\n",
    ")\n",
    "\n",
    "plt.title(\"Confusion Matrix - Random Forest with Balanced Class Weights\")\n",
    "plt.xlabel(\"Predicted Label\")\n",
    "plt.ylabel(\"True Label\")\n",
    "plt.tight_layout()\n",
    "plt.show()\n"
   ]
  },
  {
   "cell_type": "code",
   "execution_count": null,
   "id": "e134c698-b720-4b61-b888-817be1f16247",
   "metadata": {},
   "outputs": [],
   "source": [
    "# interactive with plotly\n",
    "!pip install plotly\n"
   ]
  },
  {
   "cell_type": "code",
   "execution_count": null,
   "id": "58b0badf-8261-429a-9632-2678d1097b78",
   "metadata": {},
   "outputs": [],
   "source": [
    "\n",
    "\n",
    "# Get confusion matrix\n",
    "labels = ['Normal', 'Prediabetes', 'Diabetes']\n",
    "cm = confusion_matrix(y_test, y_pred)\n",
    "\n",
    "# Create interactive heatmap\n",
    "fig = go.Figure(data=go.Heatmap(\n",
    "    z=cm,\n",
    "    x=labels,\n",
    "    y=labels,\n",
    "    hoverongaps=False,\n",
    "    colorscale='Blues',\n",
    "    showscale=True,\n",
    "    text=cm,\n",
    "    texttemplate=\"%{text}\"\n",
    "))\n",
    "\n",
    "fig.update_layout(\n",
    "    title=\"Interactive Confusion Matrix - Random Forest\",\n",
    "    xaxis_title=\"Predicted Label\",\n",
    "    yaxis_title=\"True Label\",\n",
    "    yaxis=dict(autorange='reversed')  # Make top row 'Normal'\n",
    ")\n",
    "\n",
    "fig.show()\n"
   ]
  }
 ],
 "metadata": {
  "kernelspec": {
   "display_name": "Python 3 (ipykernel)",
   "language": "python",
   "name": "python3"
  },
  "language_info": {
   "codemirror_mode": {
    "name": "ipython",
    "version": 3
   },
   "file_extension": ".py",
   "mimetype": "text/x-python",
   "name": "python",
   "nbconvert_exporter": "python",
   "pygments_lexer": "ipython3",
   "version": "3.9.7"
  }
 },
 "nbformat": 4,
 "nbformat_minor": 5
}
